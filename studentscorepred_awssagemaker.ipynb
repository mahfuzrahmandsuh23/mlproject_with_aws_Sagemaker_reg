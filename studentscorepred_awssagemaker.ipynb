{
 "cells": [
  {
   "cell_type": "code",
   "execution_count": 72,
   "id": "d2cd2a94-f1bb-485b-9368-e1c265b629cb",
   "metadata": {
    "execution": {
     "iopub.execute_input": "2025-07-11T09:30:56.154970Z",
     "iopub.status.busy": "2025-07-11T09:30:56.154335Z",
     "iopub.status.idle": "2025-07-11T09:30:56.158797Z",
     "shell.execute_reply": "2025-07-11T09:30:56.158017Z",
     "shell.execute_reply.started": "2025-07-11T09:30:56.154941Z"
    }
   },
   "outputs": [],
   "source": [
    "import pandas as pd\n",
    "import numpy as np \n",
    "import boto3 \n",
    "import sagemaker \n",
    "from sagemaker import Session\n",
    "import io \n",
    "import sagemaker.amazon.common as smac \n",
    "import os \n",
    "from sagemaker.amazon.amazon_estimator import get_image_uri \n",
    "from sklearn.model_selection import train_test_split\n"
   ]
  },
  {
   "cell_type": "code",
   "execution_count": 73,
   "id": "b56547a1-0177-4535-9236-39f75d9e7308",
   "metadata": {
    "execution": {
     "iopub.execute_input": "2025-07-11T09:30:59.913578Z",
     "iopub.status.busy": "2025-07-11T09:30:59.913212Z",
     "iopub.status.idle": "2025-07-11T09:30:59.925937Z",
     "shell.execute_reply": "2025-07-11T09:30:59.925124Z",
     "shell.execute_reply.started": "2025-07-11T09:30:59.913550Z"
    }
   },
   "outputs": [
    {
     "data": {
      "text/html": [
       "<div>\n",
       "<style scoped>\n",
       "    .dataframe tbody tr th:only-of-type {\n",
       "        vertical-align: middle;\n",
       "    }\n",
       "\n",
       "    .dataframe tbody tr th {\n",
       "        vertical-align: top;\n",
       "    }\n",
       "\n",
       "    .dataframe thead th {\n",
       "        text-align: right;\n",
       "    }\n",
       "</style>\n",
       "<table border=\"1\" class=\"dataframe\">\n",
       "  <thead>\n",
       "    <tr style=\"text-align: right;\">\n",
       "      <th></th>\n",
       "      <th>Hours</th>\n",
       "      <th>Scores</th>\n",
       "    </tr>\n",
       "  </thead>\n",
       "  <tbody>\n",
       "    <tr>\n",
       "      <th>0</th>\n",
       "      <td>2.5</td>\n",
       "      <td>21</td>\n",
       "    </tr>\n",
       "    <tr>\n",
       "      <th>1</th>\n",
       "      <td>5.1</td>\n",
       "      <td>47</td>\n",
       "    </tr>\n",
       "    <tr>\n",
       "      <th>2</th>\n",
       "      <td>3.2</td>\n",
       "      <td>27</td>\n",
       "    </tr>\n",
       "    <tr>\n",
       "      <th>3</th>\n",
       "      <td>8.5</td>\n",
       "      <td>75</td>\n",
       "    </tr>\n",
       "    <tr>\n",
       "      <th>4</th>\n",
       "      <td>3.5</td>\n",
       "      <td>30</td>\n",
       "    </tr>\n",
       "  </tbody>\n",
       "</table>\n",
       "</div>"
      ],
      "text/plain": [
       "   Hours  Scores\n",
       "0    2.5      21\n",
       "1    5.1      47\n",
       "2    3.2      27\n",
       "3    8.5      75\n",
       "4    3.5      30"
      ]
     },
     "execution_count": 73,
     "metadata": {},
     "output_type": "execute_result"
    }
   ],
   "source": [
    "df= pd.read_csv(\"student_scores.csv\") \n",
    "df.head() "
   ]
  },
  {
   "cell_type": "code",
   "execution_count": 74,
   "id": "e365308e-467a-4319-8c35-049447765e82",
   "metadata": {
    "execution": {
     "iopub.execute_input": "2025-07-11T09:31:02.638563Z",
     "iopub.status.busy": "2025-07-11T09:31:02.638202Z",
     "iopub.status.idle": "2025-07-11T09:31:02.644018Z",
     "shell.execute_reply": "2025-07-11T09:31:02.643285Z",
     "shell.execute_reply.started": "2025-07-11T09:31:02.638537Z"
    }
   },
   "outputs": [
    {
     "data": {
      "text/plain": [
       "(25, 2)"
      ]
     },
     "execution_count": 74,
     "metadata": {},
     "output_type": "execute_result"
    }
   ],
   "source": [
    "df.shape "
   ]
  },
  {
   "cell_type": "code",
   "execution_count": 75,
   "id": "5f43b8df-95c3-4c7d-bf18-0013b47698cb",
   "metadata": {
    "execution": {
     "iopub.execute_input": "2025-07-11T09:31:04.510652Z",
     "iopub.status.busy": "2025-07-11T09:31:04.509866Z",
     "iopub.status.idle": "2025-07-11T09:31:04.515218Z",
     "shell.execute_reply": "2025-07-11T09:31:04.514452Z",
     "shell.execute_reply.started": "2025-07-11T09:31:04.510619Z"
    }
   },
   "outputs": [],
   "source": [
    "x= df[[\"Hours\"]]\n",
    "y=df[[\"Scores\"]] \n"
   ]
  },
  {
   "cell_type": "code",
   "execution_count": 76,
   "id": "175a538e-f82f-45ba-994d-0b23fa69142e",
   "metadata": {
    "execution": {
     "iopub.execute_input": "2025-07-11T09:31:06.012007Z",
     "iopub.status.busy": "2025-07-11T09:31:06.011299Z",
     "iopub.status.idle": "2025-07-11T09:31:06.017183Z",
     "shell.execute_reply": "2025-07-11T09:31:06.016210Z",
     "shell.execute_reply.started": "2025-07-11T09:31:06.011980Z"
    }
   },
   "outputs": [
    {
     "name": "stdout",
     "output_type": "stream",
     "text": [
      "Hours    float64\n",
      "dtype: object\n"
     ]
    }
   ],
   "source": [
    "print(x.dtypes)\n",
    "x=x.astype(\"float32\")\n",
    "y=y.astype(\"float32\")\n"
   ]
  },
  {
   "cell_type": "code",
   "execution_count": 78,
   "id": "83579dfe-d43b-486a-af0d-cdadcb54bac8",
   "metadata": {
    "execution": {
     "iopub.execute_input": "2025-07-11T09:31:41.095518Z",
     "iopub.status.busy": "2025-07-11T09:31:41.095230Z",
     "iopub.status.idle": "2025-07-11T09:31:41.101564Z",
     "shell.execute_reply": "2025-07-11T09:31:41.100660Z",
     "shell.execute_reply.started": "2025-07-11T09:31:41.095496Z"
    }
   },
   "outputs": [
    {
     "data": {
      "text/plain": [
       "Scores    float32\n",
       "dtype: object"
      ]
     },
     "execution_count": 78,
     "metadata": {},
     "output_type": "execute_result"
    }
   ],
   "source": [
    "x.dtypes\n",
    "y.dtypes"
   ]
  },
  {
   "cell_type": "code",
   "execution_count": 79,
   "id": "eec806e1-6c20-46e6-b110-358ac87c3503",
   "metadata": {
    "execution": {
     "iopub.execute_input": "2025-07-11T09:31:55.135346Z",
     "iopub.status.busy": "2025-07-11T09:31:55.135072Z",
     "iopub.status.idle": "2025-07-11T09:31:55.140148Z",
     "shell.execute_reply": "2025-07-11T09:31:55.139473Z",
     "shell.execute_reply.started": "2025-07-11T09:31:55.135326Z"
    }
   },
   "outputs": [],
   "source": [
    "X_train, X_test, y_train , y_test= train_test_split(x,y, test_size=0.2)"
   ]
  },
  {
   "cell_type": "code",
   "execution_count": 80,
   "id": "79eff54f-1ad3-4f5a-8459-6415726c6206",
   "metadata": {
    "execution": {
     "iopub.execute_input": "2025-07-11T09:31:57.958756Z",
     "iopub.status.busy": "2025-07-11T09:31:57.958458Z",
     "iopub.status.idle": "2025-07-11T09:31:57.962918Z",
     "shell.execute_reply": "2025-07-11T09:31:57.962385Z",
     "shell.execute_reply.started": "2025-07-11T09:31:57.958715Z"
    }
   },
   "outputs": [],
   "source": [
    "X_train=X_train.reset_index(drop=True)\n",
    "y_train=y_train.reset_index(drop=True) \n",
    "X_test=X_test.reset_index(drop=True) \n",
    "y_test=y_test.reset_index(drop=True)"
   ]
  },
  {
   "cell_type": "code",
   "execution_count": 81,
   "id": "70ef3e70-50d6-4b0e-aa07-dc2fd0db62b9",
   "metadata": {
    "execution": {
     "iopub.execute_input": "2025-07-11T09:31:58.685985Z",
     "iopub.status.busy": "2025-07-11T09:31:58.685376Z",
     "iopub.status.idle": "2025-07-11T09:31:58.696012Z",
     "shell.execute_reply": "2025-07-11T09:31:58.695288Z",
     "shell.execute_reply.started": "2025-07-11T09:31:58.685960Z"
    }
   },
   "outputs": [
    {
     "data": {
      "text/html": [
       "<div>\n",
       "<style scoped>\n",
       "    .dataframe tbody tr th:only-of-type {\n",
       "        vertical-align: middle;\n",
       "    }\n",
       "\n",
       "    .dataframe tbody tr th {\n",
       "        vertical-align: top;\n",
       "    }\n",
       "\n",
       "    .dataframe thead th {\n",
       "        text-align: right;\n",
       "    }\n",
       "</style>\n",
       "<table border=\"1\" class=\"dataframe\">\n",
       "  <thead>\n",
       "    <tr style=\"text-align: right;\">\n",
       "      <th></th>\n",
       "      <th>Hours</th>\n",
       "    </tr>\n",
       "  </thead>\n",
       "  <tbody>\n",
       "    <tr>\n",
       "      <th>0</th>\n",
       "      <td>9.2</td>\n",
       "    </tr>\n",
       "    <tr>\n",
       "      <th>1</th>\n",
       "      <td>4.8</td>\n",
       "    </tr>\n",
       "    <tr>\n",
       "      <th>2</th>\n",
       "      <td>2.5</td>\n",
       "    </tr>\n",
       "    <tr>\n",
       "      <th>3</th>\n",
       "      <td>3.2</td>\n",
       "    </tr>\n",
       "    <tr>\n",
       "      <th>4</th>\n",
       "      <td>1.1</td>\n",
       "    </tr>\n",
       "    <tr>\n",
       "      <th>5</th>\n",
       "      <td>8.5</td>\n",
       "    </tr>\n",
       "    <tr>\n",
       "      <th>6</th>\n",
       "      <td>2.7</td>\n",
       "    </tr>\n",
       "    <tr>\n",
       "      <th>7</th>\n",
       "      <td>7.8</td>\n",
       "    </tr>\n",
       "    <tr>\n",
       "      <th>8</th>\n",
       "      <td>7.4</td>\n",
       "    </tr>\n",
       "    <tr>\n",
       "      <th>9</th>\n",
       "      <td>5.9</td>\n",
       "    </tr>\n",
       "    <tr>\n",
       "      <th>10</th>\n",
       "      <td>1.9</td>\n",
       "    </tr>\n",
       "    <tr>\n",
       "      <th>11</th>\n",
       "      <td>3.5</td>\n",
       "    </tr>\n",
       "    <tr>\n",
       "      <th>12</th>\n",
       "      <td>5.1</td>\n",
       "    </tr>\n",
       "    <tr>\n",
       "      <th>13</th>\n",
       "      <td>2.7</td>\n",
       "    </tr>\n",
       "    <tr>\n",
       "      <th>14</th>\n",
       "      <td>3.3</td>\n",
       "    </tr>\n",
       "    <tr>\n",
       "      <th>15</th>\n",
       "      <td>6.1</td>\n",
       "    </tr>\n",
       "    <tr>\n",
       "      <th>16</th>\n",
       "      <td>1.5</td>\n",
       "    </tr>\n",
       "    <tr>\n",
       "      <th>17</th>\n",
       "      <td>4.5</td>\n",
       "    </tr>\n",
       "    <tr>\n",
       "      <th>18</th>\n",
       "      <td>8.3</td>\n",
       "    </tr>\n",
       "    <tr>\n",
       "      <th>19</th>\n",
       "      <td>7.7</td>\n",
       "    </tr>\n",
       "  </tbody>\n",
       "</table>\n",
       "</div>"
      ],
      "text/plain": [
       "    Hours\n",
       "0     9.2\n",
       "1     4.8\n",
       "2     2.5\n",
       "3     3.2\n",
       "4     1.1\n",
       "5     8.5\n",
       "6     2.7\n",
       "7     7.8\n",
       "8     7.4\n",
       "9     5.9\n",
       "10    1.9\n",
       "11    3.5\n",
       "12    5.1\n",
       "13    2.7\n",
       "14    3.3\n",
       "15    6.1\n",
       "16    1.5\n",
       "17    4.5\n",
       "18    8.3\n",
       "19    7.7"
      ]
     },
     "execution_count": 81,
     "metadata": {},
     "output_type": "execute_result"
    }
   ],
   "source": [
    "X_train"
   ]
  },
  {
   "cell_type": "code",
   "execution_count": 82,
   "id": "2dbb766f-c092-4c07-b865-04401aa06e7c",
   "metadata": {
    "execution": {
     "iopub.execute_input": "2025-07-11T09:31:59.976920Z",
     "iopub.status.busy": "2025-07-11T09:31:59.976562Z",
     "iopub.status.idle": "2025-07-11T09:31:59.981384Z",
     "shell.execute_reply": "2025-07-11T09:31:59.980673Z",
     "shell.execute_reply.started": "2025-07-11T09:31:59.976895Z"
    }
   },
   "outputs": [
    {
     "data": {
      "text/plain": [
       "(20, 1)"
      ]
     },
     "execution_count": 82,
     "metadata": {},
     "output_type": "execute_result"
    }
   ],
   "source": [
    "y_train.shape"
   ]
  },
  {
   "cell_type": "code",
   "execution_count": 83,
   "id": "9e410c14-5ba6-4bce-a571-effb60b45048",
   "metadata": {
    "execution": {
     "iopub.execute_input": "2025-07-11T09:32:01.530054Z",
     "iopub.status.busy": "2025-07-11T09:32:01.529246Z",
     "iopub.status.idle": "2025-07-11T09:32:01.533851Z",
     "shell.execute_reply": "2025-07-11T09:32:01.532835Z",
     "shell.execute_reply.started": "2025-07-11T09:32:01.530025Z"
    }
   },
   "outputs": [],
   "source": [
    "y_train=y_train.iloc[:,0]"
   ]
  },
  {
   "cell_type": "code",
   "execution_count": 84,
   "id": "89780ce0-eb2e-4b3f-bd2a-db62e7d4daab",
   "metadata": {
    "execution": {
     "iopub.execute_input": "2025-07-11T09:32:02.277199Z",
     "iopub.status.busy": "2025-07-11T09:32:02.276562Z",
     "iopub.status.idle": "2025-07-11T09:32:02.282797Z",
     "shell.execute_reply": "2025-07-11T09:32:02.281913Z",
     "shell.execute_reply.started": "2025-07-11T09:32:02.277165Z"
    }
   },
   "outputs": [
    {
     "data": {
      "text/plain": [
       "(20,)"
      ]
     },
     "execution_count": 84,
     "metadata": {},
     "output_type": "execute_result"
    }
   ],
   "source": [
    "y_train.shape"
   ]
  },
  {
   "cell_type": "code",
   "execution_count": 85,
   "id": "575fd682-b891-4aec-a150-2de88dde777d",
   "metadata": {
    "execution": {
     "iopub.execute_input": "2025-07-11T09:32:03.326299Z",
     "iopub.status.busy": "2025-07-11T09:32:03.325814Z",
     "iopub.status.idle": "2025-07-11T09:32:03.330689Z",
     "shell.execute_reply": "2025-07-11T09:32:03.329558Z",
     "shell.execute_reply.started": "2025-07-11T09:32:03.326180Z"
    }
   },
   "outputs": [],
   "source": [
    "y_test=y_test.iloc[:,0]"
   ]
  },
  {
   "cell_type": "code",
   "execution_count": 86,
   "id": "e99c7b9f-ea6e-4394-b7a9-b479fc35abc6",
   "metadata": {
    "execution": {
     "iopub.execute_input": "2025-07-11T09:32:04.070583Z",
     "iopub.status.busy": "2025-07-11T09:32:04.069938Z",
     "iopub.status.idle": "2025-07-11T09:32:04.075422Z",
     "shell.execute_reply": "2025-07-11T09:32:04.074654Z",
     "shell.execute_reply.started": "2025-07-11T09:32:04.070553Z"
    }
   },
   "outputs": [
    {
     "data": {
      "text/plain": [
       "0    60.0\n",
       "1    76.0\n",
       "2    21.0\n",
       "3    35.0\n",
       "4    95.0\n",
       "Name: Scores, dtype: float32"
      ]
     },
     "execution_count": 86,
     "metadata": {},
     "output_type": "execute_result"
    }
   ],
   "source": [
    "y_test"
   ]
  },
  {
   "cell_type": "code",
   "execution_count": 87,
   "id": "384b7009-37de-4e1b-bba3-861628298088",
   "metadata": {
    "execution": {
     "iopub.execute_input": "2025-07-11T09:32:08.920138Z",
     "iopub.status.busy": "2025-07-11T09:32:08.919857Z",
     "iopub.status.idle": "2025-07-11T09:32:08.924308Z",
     "shell.execute_reply": "2025-07-11T09:32:08.923635Z",
     "shell.execute_reply.started": "2025-07-11T09:32:08.920118Z"
    }
   },
   "outputs": [
    {
     "data": {
      "text/plain": [
       "(5,)"
      ]
     },
     "execution_count": 87,
     "metadata": {},
     "output_type": "execute_result"
    }
   ],
   "source": [
    "y_test.shape"
   ]
  },
  {
   "cell_type": "code",
   "execution_count": 88,
   "id": "8aa580c6-24f2-4777-b23b-f25f4d7e2627",
   "metadata": {
    "execution": {
     "iopub.execute_input": "2025-07-11T09:32:28.644715Z",
     "iopub.status.busy": "2025-07-11T09:32:28.644079Z",
     "iopub.status.idle": "2025-07-11T09:32:28.702227Z",
     "shell.execute_reply": "2025-07-11T09:32:28.701369Z",
     "shell.execute_reply.started": "2025-07-11T09:32:28.644687Z"
    }
   },
   "outputs": [],
   "source": [
    "#creating sagemaker session\n",
    "sagemaker_session= sagemaker.Session() \n",
    "bucket_name= \"sagemakerbucket25\"\n",
    "prefix= \"linear-learner\"\n",
    "role= sagemaker.get_execution_role() "
   ]
  },
  {
   "cell_type": "code",
   "execution_count": 89,
   "id": "89f0b00a-db8c-44a4-8056-b9ddba7f1390",
   "metadata": {
    "execution": {
     "iopub.execute_input": "2025-07-11T09:32:32.650592Z",
     "iopub.status.busy": "2025-07-11T09:32:32.650202Z",
     "iopub.status.idle": "2025-07-11T09:32:32.653906Z",
     "shell.execute_reply": "2025-07-11T09:32:32.653318Z",
     "shell.execute_reply.started": "2025-07-11T09:32:32.650567Z"
    }
   },
   "outputs": [],
   "source": [
    "X_train=np.array(X_train)"
   ]
  },
  {
   "cell_type": "code",
   "execution_count": 90,
   "id": "cf3bad49-5da2-4d3f-9f8f-e01a0bd01c10",
   "metadata": {
    "execution": {
     "iopub.execute_input": "2025-07-11T09:32:33.689308Z",
     "iopub.status.busy": "2025-07-11T09:32:33.688572Z",
     "iopub.status.idle": "2025-07-11T09:32:33.693953Z",
     "shell.execute_reply": "2025-07-11T09:32:33.693383Z",
     "shell.execute_reply.started": "2025-07-11T09:32:33.689278Z"
    }
   },
   "outputs": [
    {
     "data": {
      "text/plain": [
       "array([[9.2],\n",
       "       [4.8],\n",
       "       [2.5],\n",
       "       [3.2],\n",
       "       [1.1],\n",
       "       [8.5],\n",
       "       [2.7],\n",
       "       [7.8],\n",
       "       [7.4],\n",
       "       [5.9],\n",
       "       [1.9],\n",
       "       [3.5],\n",
       "       [5.1],\n",
       "       [2.7],\n",
       "       [3.3],\n",
       "       [6.1],\n",
       "       [1.5],\n",
       "       [4.5],\n",
       "       [8.3],\n",
       "       [7.7]], dtype=float32)"
      ]
     },
     "execution_count": 90,
     "metadata": {},
     "output_type": "execute_result"
    }
   ],
   "source": [
    "X_train"
   ]
  },
  {
   "cell_type": "code",
   "execution_count": 91,
   "id": "b8c77696-4eb6-499a-99e2-82e272ab9aa9",
   "metadata": {
    "execution": {
     "iopub.execute_input": "2025-07-11T09:33:17.825355Z",
     "iopub.status.busy": "2025-07-11T09:33:17.824994Z",
     "iopub.status.idle": "2025-07-11T09:33:17.832486Z",
     "shell.execute_reply": "2025-07-11T09:33:17.831727Z",
     "shell.execute_reply.started": "2025-07-11T09:33:17.825330Z"
    }
   },
   "outputs": [
    {
     "data": {
      "text/plain": [
       "0"
      ]
     },
     "execution_count": 91,
     "metadata": {},
     "output_type": "execute_result"
    }
   ],
   "source": [
    "# creating buffer for test data\n",
    "buf=io.BytesIO() \n",
    "smac.write_numpy_to_dense_tensor(buf,X_train,y_train) \n",
    "buf.seek(0)"
   ]
  },
  {
   "cell_type": "code",
   "execution_count": 92,
   "id": "eeb1766c-65c2-4e23-b52f-0c3d22d63b25",
   "metadata": {
    "execution": {
     "iopub.execute_input": "2025-07-11T09:33:23.254500Z",
     "iopub.status.busy": "2025-07-11T09:33:23.254135Z",
     "iopub.status.idle": "2025-07-11T09:33:23.345901Z",
     "shell.execute_reply": "2025-07-11T09:33:23.345196Z",
     "shell.execute_reply.started": "2025-07-11T09:33:23.254476Z"
    }
   },
   "outputs": [
    {
     "name": "stdout",
     "output_type": "stream",
     "text": [
      "Data Uploaded s3://sagemakerbucket25/linear-learner/train/student-data\n"
     ]
    }
   ],
   "source": [
    "#define the name of thefile \n",
    "key=\"student-data\"\n",
    "\n",
    "#code to upload in s3 bucket\n",
    "boto3.resource('s3').Bucket(bucket_name).Object(os.path.join(prefix,'train',key)).upload_fileobj(buf) \n",
    "\n",
    "#path of our data\n",
    "s3_train_data=f\"s3://{bucket_name}/{prefix}/train/{key}\"\n",
    "\n",
    "print(\"Data Uploaded\", s3_train_data)"
   ]
  },
  {
   "cell_type": "code",
   "execution_count": 93,
   "id": "0acc0cab-695d-4a54-8799-72b9eb5a10e8",
   "metadata": {
    "execution": {
     "iopub.execute_input": "2025-07-11T09:33:32.682029Z",
     "iopub.status.busy": "2025-07-11T09:33:32.681653Z",
     "iopub.status.idle": "2025-07-11T09:33:32.685656Z",
     "shell.execute_reply": "2025-07-11T09:33:32.684797Z",
     "shell.execute_reply.started": "2025-07-11T09:33:32.682006Z"
    }
   },
   "outputs": [],
   "source": [
    "# same way for X_test data\n",
    "X_test=np.array(X_test)"
   ]
  },
  {
   "cell_type": "code",
   "execution_count": 94,
   "id": "0263af2f-ad02-4629-97cd-fc5c3705378a",
   "metadata": {
    "execution": {
     "iopub.execute_input": "2025-07-11T09:33:33.316312Z",
     "iopub.status.busy": "2025-07-11T09:33:33.315932Z",
     "iopub.status.idle": "2025-07-11T09:33:33.321393Z",
     "shell.execute_reply": "2025-07-11T09:33:33.320516Z",
     "shell.execute_reply.started": "2025-07-11T09:33:33.316287Z"
    }
   },
   "outputs": [
    {
     "data": {
      "text/plain": [
       "array([[5.5],\n",
       "       [6.9],\n",
       "       [2.5],\n",
       "       [3.8],\n",
       "       [8.9]], dtype=float32)"
      ]
     },
     "execution_count": 94,
     "metadata": {},
     "output_type": "execute_result"
    }
   ],
   "source": [
    "X_test"
   ]
  },
  {
   "cell_type": "code",
   "execution_count": 95,
   "id": "1d8748cb-28cf-4901-8be7-bceab9800af4",
   "metadata": {
    "execution": {
     "iopub.execute_input": "2025-07-11T09:33:34.834608Z",
     "iopub.status.busy": "2025-07-11T09:33:34.833952Z",
     "iopub.status.idle": "2025-07-11T09:33:34.838237Z",
     "shell.execute_reply": "2025-07-11T09:33:34.837722Z",
     "shell.execute_reply.started": "2025-07-11T09:33:34.834579Z"
    }
   },
   "outputs": [
    {
     "data": {
      "text/plain": [
       "(5, 1)"
      ]
     },
     "execution_count": 95,
     "metadata": {},
     "output_type": "execute_result"
    }
   ],
   "source": [
    "X_test.shape"
   ]
  },
  {
   "cell_type": "code",
   "execution_count": 96,
   "id": "347e3ba3-a2ac-432b-9931-b42938dee9d5",
   "metadata": {
    "execution": {
     "iopub.execute_input": "2025-07-11T09:33:36.240509Z",
     "iopub.status.busy": "2025-07-11T09:33:36.240141Z",
     "iopub.status.idle": "2025-07-11T09:33:36.245622Z",
     "shell.execute_reply": "2025-07-11T09:33:36.244497Z",
     "shell.execute_reply.started": "2025-07-11T09:33:36.240485Z"
    }
   },
   "outputs": [
    {
     "data": {
      "text/plain": [
       "0"
      ]
     },
     "execution_count": 96,
     "metadata": {},
     "output_type": "execute_result"
    }
   ],
   "source": [
    "# creating buffer for test data\n",
    "buf=io.BytesIO() \n",
    "smac.write_numpy_to_dense_tensor(buf,X_test,y_test) \n",
    "buf.seek(0)"
   ]
  },
  {
   "cell_type": "code",
   "execution_count": 97,
   "id": "753a1739-c5f0-431f-9bd1-d51617d616b5",
   "metadata": {
    "execution": {
     "iopub.execute_input": "2025-07-11T09:33:39.685481Z",
     "iopub.status.busy": "2025-07-11T09:33:39.685202Z",
     "iopub.status.idle": "2025-07-11T09:33:39.771134Z",
     "shell.execute_reply": "2025-07-11T09:33:39.770406Z",
     "shell.execute_reply.started": "2025-07-11T09:33:39.685459Z"
    }
   },
   "outputs": [
    {
     "name": "stdout",
     "output_type": "stream",
     "text": [
      "Data Uploaded s3://sagemakerbucket25/linear-learner/test/student-data-test\n"
     ]
    }
   ],
   "source": [
    "#define the name of thefile \n",
    "key=\"student-data-test\"\n",
    "\n",
    "#code to upload in s3 bucket\n",
    "boto3.resource('s3').Bucket(bucket_name).Object(os.path.join(prefix,'test',key)).upload_fileobj(buf) \n",
    "\n",
    "#path of our data\n",
    "s3_test_data=f\"s3://{bucket_name}/{prefix}/test/{key}\"\n",
    "\n",
    "print(\"Data Uploaded\", s3_test_data)"
   ]
  },
  {
   "cell_type": "code",
   "execution_count": 98,
   "id": "d7761570-57ab-4538-bd5d-8f9c3591dffd",
   "metadata": {
    "execution": {
     "iopub.execute_input": "2025-07-11T09:33:41.353205Z",
     "iopub.status.busy": "2025-07-11T09:33:41.352749Z",
     "iopub.status.idle": "2025-07-11T09:33:41.356654Z",
     "shell.execute_reply": "2025-07-11T09:33:41.355970Z",
     "shell.execute_reply.started": "2025-07-11T09:33:41.353176Z"
    }
   },
   "outputs": [],
   "source": [
    "# output location\n",
    "output_location=f\"s3://{bucket_name}/{prefix}/output\""
   ]
  },
  {
   "cell_type": "code",
   "execution_count": 99,
   "id": "9e7e513a-49af-48a5-8324-747177415cc6",
   "metadata": {
    "execution": {
     "iopub.execute_input": "2025-07-11T09:33:42.256214Z",
     "iopub.status.busy": "2025-07-11T09:33:42.255936Z",
     "iopub.status.idle": "2025-07-11T09:33:42.260580Z",
     "shell.execute_reply": "2025-07-11T09:33:42.259908Z",
     "shell.execute_reply.started": "2025-07-11T09:33:42.256194Z"
    }
   },
   "outputs": [
    {
     "data": {
      "text/plain": [
       "'s3://sagemakerbucket25/linear-learner/output'"
      ]
     },
     "execution_count": 99,
     "metadata": {},
     "output_type": "execute_result"
    }
   ],
   "source": [
    "output_location"
   ]
  },
  {
   "cell_type": "code",
   "execution_count": 100,
   "id": "85ae1a6c-d03f-49b7-846e-1b0803f7d2f4",
   "metadata": {
    "execution": {
     "iopub.execute_input": "2025-07-11T09:33:43.527039Z",
     "iopub.status.busy": "2025-07-11T09:33:43.526346Z",
     "iopub.status.idle": "2025-07-11T09:33:43.563089Z",
     "shell.execute_reply": "2025-07-11T09:33:43.562310Z",
     "shell.execute_reply.started": "2025-07-11T09:33:43.527010Z"
    }
   },
   "outputs": [
    {
     "name": "stderr",
     "output_type": "stream",
     "text": [
      "INFO:sagemaker.image_uris:Same images used for training and inference. Defaulting to image scope: inference.\n",
      "INFO:sagemaker.image_uris:Ignoring unnecessary instance type: None.\n"
     ]
    }
   ],
   "source": [
    "#bring the container \n",
    "container=sagemaker.image_uris.retrieve(\"linear-learner\",boto3.Session().region_name) "
   ]
  },
  {
   "cell_type": "code",
   "execution_count": 101,
   "id": "f45be7ea-2c00-4d3f-a8b9-5f53ba789fbe",
   "metadata": {
    "execution": {
     "iopub.execute_input": "2025-07-11T09:33:49.723438Z",
     "iopub.status.busy": "2025-07-11T09:33:49.723145Z",
     "iopub.status.idle": "2025-07-11T09:33:49.727635Z",
     "shell.execute_reply": "2025-07-11T09:33:49.726882Z",
     "shell.execute_reply.started": "2025-07-11T09:33:49.723417Z"
    }
   },
   "outputs": [
    {
     "data": {
      "text/plain": [
       "'669576153137.dkr.ecr.eu-north-1.amazonaws.com/linear-learner:1'"
      ]
     },
     "execution_count": 101,
     "metadata": {},
     "output_type": "execute_result"
    }
   ],
   "source": [
    "container"
   ]
  },
  {
   "cell_type": "code",
   "execution_count": 102,
   "id": "9f4ac61a-1187-4ca9-92fa-6804348c74df",
   "metadata": {
    "execution": {
     "iopub.execute_input": "2025-07-11T09:33:52.044760Z",
     "iopub.status.busy": "2025-07-11T09:33:52.044377Z",
     "iopub.status.idle": "2025-07-11T09:33:52.058872Z",
     "shell.execute_reply": "2025-07-11T09:33:52.057972Z",
     "shell.execute_reply.started": "2025-07-11T09:33:52.044733Z"
    }
   },
   "outputs": [],
   "source": [
    "#define the estimator\n",
    "linear= sagemaker.estimator.Estimator(container,role,instance_count=1,instance_type=\"ml.m5.large\",output_path=output_location,sagemaker_session=sagemaker_session) "
   ]
  },
  {
   "cell_type": "code",
   "execution_count": 103,
   "id": "c4bfd768-2e3d-42a2-bdb8-e01e83c27746",
   "metadata": {
    "execution": {
     "iopub.execute_input": "2025-07-11T09:33:52.919036Z",
     "iopub.status.busy": "2025-07-11T09:33:52.918724Z",
     "iopub.status.idle": "2025-07-11T09:33:52.923470Z",
     "shell.execute_reply": "2025-07-11T09:33:52.922794Z",
     "shell.execute_reply.started": "2025-07-11T09:33:52.919012Z"
    }
   },
   "outputs": [
    {
     "data": {
      "text/plain": [
       "<sagemaker.estimator.Estimator at 0x7f15c54de210>"
      ]
     },
     "execution_count": 103,
     "metadata": {},
     "output_type": "execute_result"
    }
   ],
   "source": [
    "linear"
   ]
  },
  {
   "cell_type": "code",
   "execution_count": 104,
   "id": "30f1fe3b-5439-4f20-981a-12b8ad5cf756",
   "metadata": {
    "execution": {
     "iopub.execute_input": "2025-07-11T09:33:54.338247Z",
     "iopub.status.busy": "2025-07-11T09:33:54.335847Z",
     "iopub.status.idle": "2025-07-11T09:33:54.344850Z",
     "shell.execute_reply": "2025-07-11T09:33:54.343861Z",
     "shell.execute_reply.started": "2025-07-11T09:33:54.338204Z"
    }
   },
   "outputs": [],
   "source": [
    "linear.set_hyperparameters(feature_dim=1,predictor_type=\"regressor\",mini_batch_size=4,epochs=6,num_models=32,loss=\"absolute_loss\")"
   ]
  },
  {
   "cell_type": "code",
   "execution_count": 105,
   "id": "e41bf64e-b0a3-4853-ae67-cc3b8c3d5a91",
   "metadata": {
    "execution": {
     "iopub.execute_input": "2025-07-11T09:33:58.843766Z",
     "iopub.status.busy": "2025-07-11T09:33:58.843397Z",
     "iopub.status.idle": "2025-07-11T09:37:46.753088Z",
     "shell.execute_reply": "2025-07-11T09:37:46.751812Z",
     "shell.execute_reply.started": "2025-07-11T09:33:58.843742Z"
    }
   },
   "outputs": [
    {
     "name": "stderr",
     "output_type": "stream",
     "text": [
      "INFO:sagemaker.telemetry.telemetry_logging:SageMaker Python SDK will collect telemetry to help us better understand our user's needs, diagnose issues, and deliver additional features.\n",
      "To opt out of telemetry, please disable via TelemetryOptOut parameter in SDK defaults config. For more information, refer to https://sagemaker.readthedocs.io/en/stable/overview.html#configuring-and-using-defaults-with-the-sagemaker-python-sdk.\n",
      "INFO:sagemaker:Creating training-job with name: linear-learner-2025-07-11-09-33-58-846\n"
     ]
    },
    {
     "name": "stdout",
     "output_type": "stream",
     "text": [
      "2025-07-11 09:33:59 Starting - Starting the training job...\n",
      "2025-07-11 09:34:20 Starting - Preparing the instances for training...\n",
      "2025-07-11 09:34:41 Downloading - Downloading input data...\n",
      "2025-07-11 09:35:21 Downloading - Downloading the training image........\u001b[34mDocker entrypoint called with argument(s): train\u001b[0m\n",
      "\u001b[34mRunning default environment configuration script\u001b[0m\n",
      "\u001b[34m[07/11/2025 09:36:47 INFO 139681705682752] Reading default configuration from /opt/amazon/lib/python3.8/site-packages/algorithm/resources/default-input.json: {'mini_batch_size': '1000', 'epochs': '15', 'feature_dim': 'auto', 'use_bias': 'true', 'binary_classifier_model_selection_criteria': 'accuracy', 'f_beta': '1.0', 'target_recall': '0.8', 'target_precision': '0.8', 'num_models': 'auto', 'num_calibration_samples': '10000000', 'init_method': 'uniform', 'init_scale': '0.07', 'init_sigma': '0.01', 'init_bias': '0.0', 'optimizer': 'auto', 'loss': 'auto', 'margin': '1.0', 'quantile': '0.5', 'loss_insensitivity': '0.01', 'huber_delta': '1.0', 'num_classes': '1', 'accuracy_top_k': '3', 'wd': 'auto', 'l1': 'auto', 'momentum': 'auto', 'learning_rate': 'auto', 'beta_1': 'auto', 'beta_2': 'auto', 'bias_lr_mult': 'auto', 'bias_wd_mult': 'auto', 'use_lr_scheduler': 'true', 'lr_scheduler_step': 'auto', 'lr_scheduler_factor': 'auto', 'lr_scheduler_minimum_lr': 'auto', 'positive_example_weight_mult': '1.0', 'balance_multiclass_weights': 'false', 'normalize_data': 'true', 'normalize_label': 'auto', 'unbias_data': 'auto', 'unbias_label': 'auto', 'num_point_for_scaler': '10000', '_kvstore': 'auto', '_num_gpus': 'auto', '_num_kv_servers': 'auto', '_log_level': 'info', '_tuning_objective_metric': '', 'early_stopping_patience': '3', 'early_stopping_tolerance': '0.001', '_enable_profiler': 'false'}\u001b[0m\n",
      "\u001b[34m[07/11/2025 09:36:47 INFO 139681705682752] Merging with provided configuration from /opt/ml/input/config/hyperparameters.json: {'epochs': '6', 'feature_dim': '1', 'loss': 'absolute_loss', 'mini_batch_size': '4', 'num_models': '32', 'predictor_type': 'regressor'}\u001b[0m\n",
      "\u001b[34m[07/11/2025 09:36:47 INFO 139681705682752] Final configuration: {'mini_batch_size': '4', 'epochs': '6', 'feature_dim': '1', 'use_bias': 'true', 'binary_classifier_model_selection_criteria': 'accuracy', 'f_beta': '1.0', 'target_recall': '0.8', 'target_precision': '0.8', 'num_models': '32', 'num_calibration_samples': '10000000', 'init_method': 'uniform', 'init_scale': '0.07', 'init_sigma': '0.01', 'init_bias': '0.0', 'optimizer': 'auto', 'loss': 'absolute_loss', 'margin': '1.0', 'quantile': '0.5', 'loss_insensitivity': '0.01', 'huber_delta': '1.0', 'num_classes': '1', 'accuracy_top_k': '3', 'wd': 'auto', 'l1': 'auto', 'momentum': 'auto', 'learning_rate': 'auto', 'beta_1': 'auto', 'beta_2': 'auto', 'bias_lr_mult': 'auto', 'bias_wd_mult': 'auto', 'use_lr_scheduler': 'true', 'lr_scheduler_step': 'auto', 'lr_scheduler_factor': 'auto', 'lr_scheduler_minimum_lr': 'auto', 'positive_example_weight_mult': '1.0', 'balance_multiclass_weights': 'false', 'normalize_data': 'true', 'normalize_label': 'auto', 'unbias_data': 'auto', 'unbias_label': 'auto', 'num_point_for_scaler': '10000', '_kvstore': 'auto', '_num_gpus': 'auto', '_num_kv_servers': 'auto', '_log_level': 'info', '_tuning_objective_metric': '', 'early_stopping_patience': '3', 'early_stopping_tolerance': '0.001', '_enable_profiler': 'false', 'predictor_type': 'regressor'}\u001b[0m\n",
      "\u001b[34m/opt/amazon/lib/python3.8/site-packages/mxnet/model.py:97: SyntaxWarning: \"is\" with a literal. Did you mean \"==\"?\n",
      "  if num_device is 1 and 'dist' not in kvstore:\u001b[0m\n",
      "\u001b[34m/opt/amazon/lib/python3.8/site-packages/scipy/optimize/_shgo.py:495: SyntaxWarning: \"is\" with a literal. Did you mean \"==\"?\n",
      "  if cons['type'] is 'ineq':\u001b[0m\n",
      "\u001b[34m/opt/amazon/lib/python3.8/site-packages/scipy/optimize/_shgo.py:743: SyntaxWarning: \"is not\" with a literal. Did you mean \"!=\"?\n",
      "  if len(self.X_min) is not 0:\u001b[0m\n",
      "\u001b[34m[07/11/2025 09:36:49 WARNING 139681705682752] Loggers have already been setup.\u001b[0m\n",
      "\u001b[34m[07/11/2025 09:36:49 INFO 139681705682752] Final configuration: {'mini_batch_size': '4', 'epochs': '6', 'feature_dim': '1', 'use_bias': 'true', 'binary_classifier_model_selection_criteria': 'accuracy', 'f_beta': '1.0', 'target_recall': '0.8', 'target_precision': '0.8', 'num_models': '32', 'num_calibration_samples': '10000000', 'init_method': 'uniform', 'init_scale': '0.07', 'init_sigma': '0.01', 'init_bias': '0.0', 'optimizer': 'auto', 'loss': 'absolute_loss', 'margin': '1.0', 'quantile': '0.5', 'loss_insensitivity': '0.01', 'huber_delta': '1.0', 'num_classes': '1', 'accuracy_top_k': '3', 'wd': 'auto', 'l1': 'auto', 'momentum': 'auto', 'learning_rate': 'auto', 'beta_1': 'auto', 'beta_2': 'auto', 'bias_lr_mult': 'auto', 'bias_wd_mult': 'auto', 'use_lr_scheduler': 'true', 'lr_scheduler_step': 'auto', 'lr_scheduler_factor': 'auto', 'lr_scheduler_minimum_lr': 'auto', 'positive_example_weight_mult': '1.0', 'balance_multiclass_weights': 'false', 'normalize_data': 'true', 'normalize_label': 'auto', 'unbias_data': 'auto', 'unbias_label': 'auto', 'num_point_for_scaler': '10000', '_kvstore': 'auto', '_num_gpus': 'auto', '_num_kv_servers': 'auto', '_log_level': 'info', '_tuning_objective_metric': '', 'early_stopping_patience': '3', 'early_stopping_tolerance': '0.001', '_enable_profiler': 'false', 'predictor_type': 'regressor'}\u001b[0m\n",
      "\u001b[34m[07/11/2025 09:36:49 WARNING 139681705682752] Loggers have already been setup.\u001b[0m\n",
      "\u001b[34mProcess 7 is a worker.\u001b[0m\n",
      "\u001b[34m[07/11/2025 09:36:49 INFO 139681705682752] Using default worker.\u001b[0m\n",
      "\u001b[34m[07/11/2025 09:36:49 INFO 139681705682752] Checkpoint loading and saving are disabled.\u001b[0m\n",
      "\u001b[34m[2025-07-11 09:36:49.910] [tensorio] [info] epoch_stats={\"data_pipeline\": \"/opt/ml/input/data/train\", \"epoch\": 0, \"duration\": 11, \"num_examples\": 1, \"num_bytes\": 192}\u001b[0m\n",
      "\u001b[34m[07/11/2025 09:36:49 INFO 139681705682752] Create Store: local\u001b[0m\n",
      "\u001b[34m[2025-07-11 09:36:49.939] [tensorio] [info] epoch_stats={\"data_pipeline\": \"/opt/ml/input/data/train\", \"epoch\": 1, \"duration\": 28, \"num_examples\": 5, \"num_bytes\": 960}\u001b[0m\n",
      "\u001b[34m[07/11/2025 09:36:49 INFO 139681705682752] Scaler algorithm parameters\n",
      " <algorithm.scaler.ScalerAlgorithmStable object at 0x7f09a71ab490>\u001b[0m\n",
      "\u001b[34m[07/11/2025 09:36:49 INFO 139681705682752] Scaling model computed with parameters:\n",
      " {'stdev_label': \u001b[0m\n",
      "\u001b[34m[24.01458]\u001b[0m\n",
      "\u001b[34m<NDArray 1 @cpu(0)>, 'stdev_weight': \u001b[0m\n",
      "\u001b[34m[2.510035]\u001b[0m\n",
      "\u001b[34m<NDArray 1 @cpu(0)>, 'mean_label': \u001b[0m\n",
      "\u001b[34m[50.]\u001b[0m\n",
      "\u001b[34m<NDArray 1 @cpu(0)>, 'mean_weight': \u001b[0m\n",
      "\u001b[34m[4.8850007]\u001b[0m\n",
      "\u001b[34m<NDArray 1 @cpu(0)>}\u001b[0m\n",
      "\u001b[34m/opt/amazon/python3.8/lib/python3.8/subprocess.py:848: RuntimeWarning: line buffering (buffering=1) isn't supported in binary mode, the default buffer size will be used\n",
      "  self.stdout = io.open(c2pread, 'rb', bufsize)\u001b[0m\n",
      "\u001b[34m[07/11/2025 09:36:49 INFO 139681705682752] nvidia-smi: took 0.032 seconds to run.\u001b[0m\n",
      "\u001b[34m[07/11/2025 09:36:49 INFO 139681705682752] nvidia-smi identified 0 GPUs.\u001b[0m\n",
      "\u001b[34m[07/11/2025 09:36:49 INFO 139681705682752] Number of GPUs being used: 0\u001b[0m\n",
      "\u001b[34m#metrics {\"StartTime\": 1752226610.031812, \"EndTime\": 1752226610.0318453, \"Dimensions\": {\"Algorithm\": \"Linear Learner\", \"Host\": \"algo-1\", \"Operation\": \"training\", \"Meta\": \"init_train_data_iter\"}, \"Metrics\": {\"Total Records Seen\": {\"sum\": 24.0, \"count\": 1, \"min\": 24, \"max\": 24}, \"Total Batches Seen\": {\"sum\": 6.0, \"count\": 1, \"min\": 6, \"max\": 6}, \"Max Records Seen Between Resets\": {\"sum\": 20.0, \"count\": 1, \"min\": 20, \"max\": 20}, \"Max Batches Seen Between Resets\": {\"sum\": 5.0, \"count\": 1, \"min\": 5, \"max\": 5}, \"Reset Count\": {\"sum\": 2.0, \"count\": 1, \"min\": 2, \"max\": 2}, \"Number of Records Since Last Reset\": {\"sum\": 0.0, \"count\": 1, \"min\": 0, \"max\": 0}, \"Number of Batches Since Last Reset\": {\"sum\": 0.0, \"count\": 1, \"min\": 0, \"max\": 0}}}\u001b[0m\n",
      "\u001b[34m[2025-07-11 09:36:50.108] [tensorio] [info] epoch_stats={\"data_pipeline\": \"/opt/ml/input/data/train\", \"epoch\": 4, \"duration\": 75, \"num_examples\": 5, \"num_bytes\": 960}\u001b[0m\n",
      "\u001b[34m#metrics {\"StartTime\": 1752226610.1083512, \"EndTime\": 1752226610.1084468, \"Dimensions\": {\"Algorithm\": \"Linear Learner\", \"Host\": \"algo-1\", \"Operation\": \"training\", \"epoch\": 0, \"model\": 0}, \"Metrics\": {\"train_absolute_loss_objective\": {\"sum\": 0.8896032214164734, \"count\": 1, \"min\": 0.8896032214164734, \"max\": 0.8896032214164734}}}\u001b[0m\n",
      "\u001b[34m#metrics {\"StartTime\": 1752226610.1086748, \"EndTime\": 1752226610.108698, \"Dimensions\": {\"Algorithm\": \"Linear Learner\", \"Host\": \"algo-1\", \"Operation\": \"training\", \"epoch\": 0, \"model\": 1}, \"Metrics\": {\"train_absolute_loss_objective\": {\"sum\": 0.9095371842384339, \"count\": 1, \"min\": 0.9095371842384339, \"max\": 0.9095371842384339}}}\u001b[0m\n",
      "\u001b[34m#metrics {\"StartTime\": 1752226610.1088307, \"EndTime\": 1752226610.1088467, \"Dimensions\": {\"Algorithm\": \"Linear Learner\", \"Host\": \"algo-1\", \"Operation\": \"training\", \"epoch\": 0, \"model\": 2}, \"Metrics\": {\"train_absolute_loss_objective\": {\"sum\": 0.892017924785614, \"count\": 1, \"min\": 0.892017924785614, \"max\": 0.892017924785614}}}\u001b[0m\n",
      "\u001b[34m#metrics {\"StartTime\": 1752226610.1089659, \"EndTime\": 1752226610.1089811, \"Dimensions\": {\"Algorithm\": \"Linear Learner\", \"Host\": \"algo-1\", \"Operation\": \"training\", \"epoch\": 0, \"model\": 3}, \"Metrics\": {\"train_absolute_loss_objective\": {\"sum\": 0.9085185050964355, \"count\": 1, \"min\": 0.9085185050964355, \"max\": 0.9085185050964355}}}\u001b[0m\n",
      "\u001b[34m#metrics {\"StartTime\": 1752226610.10902, \"EndTime\": 1752226610.1090295, \"Dimensions\": {\"Algorithm\": \"Linear Learner\", \"Host\": \"algo-1\", \"Operation\": \"training\", \"epoch\": 0, \"model\": 4}, \"Metrics\": {\"train_absolute_loss_objective\": {\"sum\": 0.717605596780777, \"count\": 1, \"min\": 0.717605596780777, \"max\": 0.717605596780777}}}\u001b[0m\n",
      "\u001b[34m#metrics {\"StartTime\": 1752226610.109133, \"EndTime\": 1752226610.1091454, \"Dimensions\": {\"Algorithm\": \"Linear Learner\", \"Host\": \"algo-1\", \"Operation\": \"training\", \"epoch\": 0, \"model\": 5}, \"Metrics\": {\"train_absolute_loss_objective\": {\"sum\": 0.7282655835151672, \"count\": 1, \"min\": 0.7282655835151672, \"max\": 0.7282655835151672}}}\u001b[0m\n",
      "\u001b[34m#metrics {\"StartTime\": 1752226610.1092248, \"EndTime\": 1752226610.109238, \"Dimensions\": {\"Algorithm\": \"Linear Learner\", \"Host\": \"algo-1\", \"Operation\": \"training\", \"epoch\": 0, \"model\": 6}, \"Metrics\": {\"train_absolute_loss_objective\": {\"sum\": 0.819368326663971, \"count\": 1, \"min\": 0.819368326663971, \"max\": 0.819368326663971}}}\u001b[0m\n",
      "\u001b[34m#metrics {\"StartTime\": 1752226610.1092753, \"EndTime\": 1752226610.1092849, \"Dimensions\": {\"Algorithm\": \"Linear Learner\", \"Host\": \"algo-1\", \"Operation\": \"training\", \"epoch\": 0, \"model\": 7}, \"Metrics\": {\"train_absolute_loss_objective\": {\"sum\": 0.78764967918396, \"count\": 1, \"min\": 0.78764967918396, \"max\": 0.78764967918396}}}\u001b[0m\n",
      "\u001b[34m#metrics {\"StartTime\": 1752226610.1093924, \"EndTime\": 1752226610.1094043, \"Dimensions\": {\"Algorithm\": \"Linear Learner\", \"Host\": \"algo-1\", \"Operation\": \"training\", \"epoch\": 0, \"model\": 8}, \"Metrics\": {\"train_absolute_loss_objective\": {\"sum\": 0.9455727696418762, \"count\": 1, \"min\": 0.9455727696418762, \"max\": 0.9455727696418762}}}\u001b[0m\n",
      "\u001b[34m#metrics {\"StartTime\": 1752226610.109438, \"EndTime\": 1752226610.1095254, \"Dimensions\": {\"Algorithm\": \"Linear Learner\", \"Host\": \"algo-1\", \"Operation\": \"training\", \"epoch\": 0, \"model\": 9}, \"Metrics\": {\"train_absolute_loss_objective\": {\"sum\": 0.8775581479072571, \"count\": 1, \"min\": 0.8775581479072571, \"max\": 0.8775581479072571}}}\u001b[0m\n",
      "\u001b[34m#metrics {\"StartTime\": 1752226610.1095665, \"EndTime\": 1752226610.1095767, \"Dimensions\": {\"Algorithm\": \"Linear Learner\", \"Host\": \"algo-1\", \"Operation\": \"training\", \"epoch\": 0, \"model\": 10}, \"Metrics\": {\"train_absolute_loss_objective\": {\"sum\": 0.8842654466629029, \"count\": 1, \"min\": 0.8842654466629029, \"max\": 0.8842654466629029}}}\u001b[0m\n",
      "\u001b[34m#metrics {\"StartTime\": 1752226610.1096594, \"EndTime\": 1752226610.1096718, \"Dimensions\": {\"Algorithm\": \"Linear Learner\", \"Host\": \"algo-1\", \"Operation\": \"training\", \"epoch\": 0, \"model\": 11}, \"Metrics\": {\"train_absolute_loss_objective\": {\"sum\": 0.8694336891174317, \"count\": 1, \"min\": 0.8694336891174317, \"max\": 0.8694336891174317}}}\u001b[0m\n",
      "\u001b[34m#metrics {\"StartTime\": 1752226610.109707, \"EndTime\": 1752226610.1097157, \"Dimensions\": {\"Algorithm\": \"Linear Learner\", \"Host\": \"algo-1\", \"Operation\": \"training\", \"epoch\": 0, \"model\": 12}, \"Metrics\": {\"train_absolute_loss_objective\": {\"sum\": 0.7273048996925354, \"count\": 1, \"min\": 0.7273048996925354, \"max\": 0.7273048996925354}}}\u001b[0m\n",
      "\u001b[34m#metrics {\"StartTime\": 1752226610.1098118, \"EndTime\": 1752226610.1098242, \"Dimensions\": {\"Algorithm\": \"Linear Learner\", \"Host\": \"algo-1\", \"Operation\": \"training\", \"epoch\": 0, \"model\": 13}, \"Metrics\": {\"train_absolute_loss_objective\": {\"sum\": 0.7560617804527283, \"count\": 1, \"min\": 0.7560617804527283, \"max\": 0.7560617804527283}}}\u001b[0m\n",
      "\u001b[34m#metrics {\"StartTime\": 1752226610.10986, \"EndTime\": 1752226610.1098692, \"Dimensions\": {\"Algorithm\": \"Linear Learner\", \"Host\": \"algo-1\", \"Operation\": \"training\", \"epoch\": 0, \"model\": 14}, \"Metrics\": {\"train_absolute_loss_objective\": {\"sum\": 0.7256759583950043, \"count\": 1, \"min\": 0.7256759583950043, \"max\": 0.7256759583950043}}}\u001b[0m\n",
      "\u001b[34m#metrics {\"StartTime\": 1752226610.1099677, \"EndTime\": 1752226610.1099799, \"Dimensions\": {\"Algorithm\": \"Linear Learner\", \"Host\": \"algo-1\", \"Operation\": \"training\", \"epoch\": 0, \"model\": 15}, \"Metrics\": {\"train_absolute_loss_objective\": {\"sum\": 0.7629538238048553, \"count\": 1, \"min\": 0.7629538238048553, \"max\": 0.7629538238048553}}}\u001b[0m\n",
      "\u001b[34m#metrics {\"StartTime\": 1752226610.1100118, \"EndTime\": 1752226610.1100674, \"Dimensions\": {\"Algorithm\": \"Linear Learner\", \"Host\": \"algo-1\", \"Operation\": \"training\", \"epoch\": 0, \"model\": 16}, \"Metrics\": {\"train_absolute_loss_objective\": {\"sum\": 0.8534415125846863, \"count\": 1, \"min\": 0.8534415125846863, \"max\": 0.8534415125846863}}}\u001b[0m\n",
      "\u001b[34m#metrics {\"StartTime\": 1752226610.110153, \"EndTime\": 1752226610.1102047, \"Dimensions\": {\"Algorithm\": \"Linear Learner\", \"Host\": \"algo-1\", \"Operation\": \"training\", \"epoch\": 0, \"model\": 17}, \"Metrics\": {\"train_absolute_loss_objective\": {\"sum\": 0.9047765493392944, \"count\": 1, \"min\": 0.9047765493392944, \"max\": 0.9047765493392944}}}\u001b[0m\n",
      "\u001b[34m#metrics {\"StartTime\": 1752226610.1102457, \"EndTime\": 1752226610.1102562, \"Dimensions\": {\"Algorithm\": \"Linear Learner\", \"Host\": \"algo-1\", \"Operation\": \"training\", \"epoch\": 0, \"model\": 18}, \"Metrics\": {\"train_absolute_loss_objective\": {\"sum\": 0.8805495381355286, \"count\": 1, \"min\": 0.8805495381355286, \"max\": 0.8805495381355286}}}\u001b[0m\n",
      "\u001b[34m#metrics {\"StartTime\": 1752226610.1103344, \"EndTime\": 1752226610.1103458, \"Dimensions\": {\"Algorithm\": \"Linear Learner\", \"Host\": \"algo-1\", \"Operation\": \"training\", \"epoch\": 0, \"model\": 19}, \"Metrics\": {\"train_absolute_loss_objective\": {\"sum\": 0.8778433084487915, \"count\": 1, \"min\": 0.8778433084487915, \"max\": 0.8778433084487915}}}\u001b[0m\n",
      "\u001b[34m#metrics {\"StartTime\": 1752226610.1103783, \"EndTime\": 1752226610.1104424, \"Dimensions\": {\"Algorithm\": \"Linear Learner\", \"Host\": \"algo-1\", \"Operation\": \"training\", \"epoch\": 0, \"model\": 20}, \"Metrics\": {\"train_absolute_loss_objective\": {\"sum\": 0.777446049451828, \"count\": 1, \"min\": 0.777446049451828, \"max\": 0.777446049451828}}}\u001b[0m\n",
      "\u001b[34m#metrics {\"StartTime\": 1752226610.1104848, \"EndTime\": 1752226610.1104958, \"Dimensions\": {\"Algorithm\": \"Linear Learner\", \"Host\": \"algo-1\", \"Operation\": \"training\", \"epoch\": 0, \"model\": 21}, \"Metrics\": {\"train_absolute_loss_objective\": {\"sum\": 0.7939568519592285, \"count\": 1, \"min\": 0.7939568519592285, \"max\": 0.7939568519592285}}}\u001b[0m\n",
      "\u001b[34m#metrics {\"StartTime\": 1752226610.1105812, \"EndTime\": 1752226610.1105924, \"Dimensions\": {\"Algorithm\": \"Linear Learner\", \"Host\": \"algo-1\", \"Operation\": \"training\", \"epoch\": 0, \"model\": 22}, \"Metrics\": {\"train_absolute_loss_objective\": {\"sum\": 0.7239804208278656, \"count\": 1, \"min\": 0.7239804208278656, \"max\": 0.7239804208278656}}}\u001b[0m\n",
      "\u001b[34m#metrics {\"StartTime\": 1752226610.1106658, \"EndTime\": 1752226610.1106782, \"Dimensions\": {\"Algorithm\": \"Linear Learner\", \"Host\": \"algo-1\", \"Operation\": \"training\", \"epoch\": 0, \"model\": 23}, \"Metrics\": {\"train_absolute_loss_objective\": {\"sum\": 0.8223700404167176, \"count\": 1, \"min\": 0.8223700404167176, \"max\": 0.8223700404167176}}}\u001b[0m\n",
      "\u001b[34m#metrics {\"StartTime\": 1752226610.1107156, \"EndTime\": 1752226610.1107242, \"Dimensions\": {\"Algorithm\": \"Linear Learner\", \"Host\": \"algo-1\", \"Operation\": \"training\", \"epoch\": 0, \"model\": 24}, \"Metrics\": {\"train_absolute_loss_objective\": {\"sum\": 0.8555891036987304, \"count\": 1, \"min\": 0.8555891036987304, \"max\": 0.8555891036987304}}}\u001b[0m\n",
      "\u001b[34m#metrics {\"StartTime\": 1752226610.1108365, \"EndTime\": 1752226610.1108491, \"Dimensions\": {\"Algorithm\": \"Linear Learner\", \"Host\": \"algo-1\", \"Operation\": \"training\", \"epoch\": 0, \"model\": 25}, \"Metrics\": {\"train_absolute_loss_objective\": {\"sum\": 0.9230296730995178, \"count\": 1, \"min\": 0.9230296730995178, \"max\": 0.9230296730995178}}}\u001b[0m\n",
      "\u001b[34m#metrics {\"StartTime\": 1752226610.110884, \"EndTime\": 1752226610.1108925, \"Dimensions\": {\"Algorithm\": \"Linear Learner\", \"Host\": \"algo-1\", \"Operation\": \"training\", \"epoch\": 0, \"model\": 26}, \"Metrics\": {\"train_absolute_loss_objective\": {\"sum\": 0.9097122430801392, \"count\": 1, \"min\": 0.9097122430801392, \"max\": 0.9097122430801392}}}\u001b[0m\n",
      "\u001b[34m#metrics {\"StartTime\": 1752226610.111004, \"EndTime\": 1752226610.1110172, \"Dimensions\": {\"Algorithm\": \"Linear Learner\", \"Host\": \"algo-1\", \"Operation\": \"training\", \"epoch\": 0, \"model\": 27}, \"Metrics\": {\"train_absolute_loss_objective\": {\"sum\": 0.8989758849143982, \"count\": 1, \"min\": 0.8989758849143982, \"max\": 0.8989758849143982}}}\u001b[0m\n",
      "\u001b[34m#metrics {\"StartTime\": 1752226610.1110911, \"EndTime\": 1752226610.1111033, \"Dimensions\": {\"Algorithm\": \"Linear Learner\", \"Host\": \"algo-1\", \"Operation\": \"training\", \"epoch\": 0, \"model\": 28}, \"Metrics\": {\"train_absolute_loss_objective\": {\"sum\": 0.9226571679115295, \"count\": 1, \"min\": 0.9226571679115295, \"max\": 0.9226571679115295}}}\u001b[0m\n",
      "\u001b[34m#metrics {\"StartTime\": 1752226610.1111388, \"EndTime\": 1752226610.1111479, \"Dimensions\": {\"Algorithm\": \"Linear Learner\", \"Host\": \"algo-1\", \"Operation\": \"training\", \"epoch\": 0, \"model\": 29}, \"Metrics\": {\"train_absolute_loss_objective\": {\"sum\": 0.9225954651832581, \"count\": 1, \"min\": 0.9225954651832581, \"max\": 0.9225954651832581}}}\u001b[0m\n",
      "\u001b[34m#metrics {\"StartTime\": 1752226610.1112502, \"EndTime\": 1752226610.1112814, \"Dimensions\": {\"Algorithm\": \"Linear Learner\", \"Host\": \"algo-1\", \"Operation\": \"training\", \"epoch\": 0, \"model\": 30}, \"Metrics\": {\"train_absolute_loss_objective\": {\"sum\": 0.9097254514694214, \"count\": 1, \"min\": 0.9097254514694214, \"max\": 0.9097254514694214}}}\u001b[0m\n",
      "\u001b[34m#metrics {\"StartTime\": 1752226610.111363, \"EndTime\": 1752226610.111376, \"Dimensions\": {\"Algorithm\": \"Linear Learner\", \"Host\": \"algo-1\", \"Operation\": \"training\", \"epoch\": 0, \"model\": 31}, \"Metrics\": {\"train_absolute_loss_objective\": {\"sum\": 0.9278305768966675, \"count\": 1, \"min\": 0.9278305768966675, \"max\": 0.9278305768966675}}}\u001b[0m\n",
      "\u001b[34m[07/11/2025 09:36:50 INFO 139681705682752] #quality_metric: host=algo-1, epoch=0, train absolute_loss_objective <loss>=0.8896032214164734\u001b[0m\n",
      "\u001b[34m[07/11/2025 09:36:50 INFO 139681705682752] #early_stopping_criteria_metric: host=algo-1, epoch=0, criteria=absolute_loss_objective, value=0.717605596780777\u001b[0m\n",
      "\u001b[34m[07/11/2025 09:36:50 INFO 139681705682752] Epoch 0: Loss improved. Updating best model\u001b[0m\n",
      "\u001b[34m[07/11/2025 09:36:50 INFO 139681705682752] Saving model for epoch: 0\u001b[0m\n",
      "\u001b[34m[07/11/2025 09:36:50 INFO 139681705682752] Saved checkpoint to \"/tmp/tmpxxme2thg/mx-mod-0000.params\"\u001b[0m\n",
      "\u001b[34m[07/11/2025 09:36:50 INFO 139681705682752] #progress_metric: host=algo-1, completed 16.666666666666668 % of epochs\u001b[0m\n",
      "\u001b[34m#metrics {\"StartTime\": 1752226610.0321105, \"EndTime\": 1752226610.1197126, \"Dimensions\": {\"Algorithm\": \"Linear Learner\", \"Host\": \"algo-1\", \"Operation\": \"training\", \"epoch\": 0, \"Meta\": \"training_data_iter\"}, \"Metrics\": {\"Total Records Seen\": {\"sum\": 44.0, \"count\": 1, \"min\": 44, \"max\": 44}, \"Total Batches Seen\": {\"sum\": 11.0, \"count\": 1, \"min\": 11, \"max\": 11}, \"Max Records Seen Between Resets\": {\"sum\": 20.0, \"count\": 1, \"min\": 20, \"max\": 20}, \"Max Batches Seen Between Resets\": {\"sum\": 5.0, \"count\": 1, \"min\": 5, \"max\": 5}, \"Reset Count\": {\"sum\": 3.0, \"count\": 1, \"min\": 3, \"max\": 3}, \"Number of Records Since Last Reset\": {\"sum\": 20.0, \"count\": 1, \"min\": 20, \"max\": 20}, \"Number of Batches Since Last Reset\": {\"sum\": 5.0, \"count\": 1, \"min\": 5, \"max\": 5}}}\u001b[0m\n",
      "\u001b[34m[07/11/2025 09:36:50 INFO 139681705682752] #throughput_metric: host=algo-1, train throughput=227.9302455751371 records/second\u001b[0m\n",
      "\u001b[34m[2025-07-11 09:36:50.191] [tensorio] [info] epoch_stats={\"data_pipeline\": \"/opt/ml/input/data/train\", \"epoch\": 6, \"duration\": 71, \"num_examples\": 5, \"num_bytes\": 960}\u001b[0m\n",
      "\u001b[34m#metrics {\"StartTime\": 1752226610.1914175, \"EndTime\": 1752226610.1914864, \"Dimensions\": {\"Algorithm\": \"Linear Learner\", \"Host\": \"algo-1\", \"Operation\": \"training\", \"epoch\": 1, \"model\": 0}, \"Metrics\": {\"train_absolute_loss_objective\": {\"sum\": 0.8578685283660888, \"count\": 1, \"min\": 0.8578685283660888, \"max\": 0.8578685283660888}}}\u001b[0m\n",
      "\u001b[34m#metrics {\"StartTime\": 1752226610.1915617, \"EndTime\": 1752226610.191574, \"Dimensions\": {\"Algorithm\": \"Linear Learner\", \"Host\": \"algo-1\", \"Operation\": \"training\", \"epoch\": 1, \"model\": 1}, \"Metrics\": {\"train_absolute_loss_objective\": {\"sum\": 0.8778025031089782, \"count\": 1, \"min\": 0.8778025031089782, \"max\": 0.8778025031089782}}}\u001b[0m\n",
      "\u001b[34m#metrics {\"StartTime\": 1752226610.1916049, \"EndTime\": 1752226610.1916912, \"Dimensions\": {\"Algorithm\": \"Linear Learner\", \"Host\": \"algo-1\", \"Operation\": \"training\", \"epoch\": 1, \"model\": 2}, \"Metrics\": {\"train_absolute_loss_objective\": {\"sum\": 0.8602832555770874, \"count\": 1, \"min\": 0.8602832555770874, \"max\": 0.8602832555770874}}}\u001b[0m\n",
      "\u001b[34m#metrics {\"StartTime\": 1752226610.1917293, \"EndTime\": 1752226610.191739, \"Dimensions\": {\"Algorithm\": \"Linear Learner\", \"Host\": \"algo-1\", \"Operation\": \"training\", \"epoch\": 1, \"model\": 3}, \"Metrics\": {\"train_absolute_loss_objective\": {\"sum\": 0.876783800125122, \"count\": 1, \"min\": 0.876783800125122, \"max\": 0.876783800125122}}}\u001b[0m\n",
      "\u001b[34m#metrics {\"StartTime\": 1752226610.1917706, \"EndTime\": 1752226610.1917799, \"Dimensions\": {\"Algorithm\": \"Linear Learner\", \"Host\": \"algo-1\", \"Operation\": \"training\", \"epoch\": 1, \"model\": 4}, \"Metrics\": {\"train_absolute_loss_objective\": {\"sum\": 0.3280952155590057, \"count\": 1, \"min\": 0.3280952155590057, \"max\": 0.3280952155590057}}}\u001b[0m\n",
      "\u001b[34m#metrics {\"StartTime\": 1752226610.1918068, \"EndTime\": 1752226610.1918147, \"Dimensions\": {\"Algorithm\": \"Linear Learner\", \"Host\": \"algo-1\", \"Operation\": \"training\", \"epoch\": 1, \"model\": 5}, \"Metrics\": {\"train_absolute_loss_objective\": {\"sum\": 0.3521326303482056, \"count\": 1, \"min\": 0.3521326303482056, \"max\": 0.3521326303482056}}}\u001b[0m\n",
      "\u001b[34m#metrics {\"StartTime\": 1752226610.1918423, \"EndTime\": 1752226610.1919084, \"Dimensions\": {\"Algorithm\": \"Linear Learner\", \"Host\": \"algo-1\", \"Operation\": \"training\", \"epoch\": 1, \"model\": 6}, \"Metrics\": {\"train_absolute_loss_objective\": {\"sum\": 0.43625393509864807, \"count\": 1, \"min\": 0.43625393509864807, \"max\": 0.43625393509864807}}}\u001b[0m\n",
      "\u001b[34m#metrics {\"StartTime\": 1752226610.1919813, \"EndTime\": 1752226610.1919937, \"Dimensions\": {\"Algorithm\": \"Linear Learner\", \"Host\": \"algo-1\", \"Operation\": \"training\", \"epoch\": 1, \"model\": 7}, \"Metrics\": {\"train_absolute_loss_objective\": {\"sum\": 0.4125802516937256, \"count\": 1, \"min\": 0.4125802516937256, \"max\": 0.4125802516937256}}}\u001b[0m\n",
      "\u001b[34m#metrics {\"StartTime\": 1752226610.1920273, \"EndTime\": 1752226610.1920354, \"Dimensions\": {\"Algorithm\": \"Linear Learner\", \"Host\": \"algo-1\", \"Operation\": \"training\", \"epoch\": 1, \"model\": 8}, \"Metrics\": {\"train_absolute_loss_objective\": {\"sum\": 0.9138375878334045, \"count\": 1, \"min\": 0.9138375878334045, \"max\": 0.9138375878334045}}}\u001b[0m\n",
      "\u001b[34m#metrics {\"StartTime\": 1752226610.1920671, \"EndTime\": 1752226610.1920753, \"Dimensions\": {\"Algorithm\": \"Linear Learner\", \"Host\": \"algo-1\", \"Operation\": \"training\", \"epoch\": 1, \"model\": 9}, \"Metrics\": {\"train_absolute_loss_objective\": {\"sum\": 0.8458243608474731, \"count\": 1, \"min\": 0.8458243608474731, \"max\": 0.8458243608474731}}}\u001b[0m\n",
      "\u001b[34m#metrics {\"StartTime\": 1752226610.1921036, \"EndTime\": 1752226610.1921117, \"Dimensions\": {\"Algorithm\": \"Linear Learner\", \"Host\": \"algo-1\", \"Operation\": \"training\", \"epoch\": 1, \"model\": 10}, \"Metrics\": {\"train_absolute_loss_objective\": {\"sum\": 0.852531498670578, \"count\": 1, \"min\": 0.852531498670578, \"max\": 0.852531498670578}}}\u001b[0m\n",
      "\u001b[34m#metrics {\"StartTime\": 1752226610.1921966, \"EndTime\": 1752226610.1922786, \"Dimensions\": {\"Algorithm\": \"Linear Learner\", \"Host\": \"algo-1\", \"Operation\": \"training\", \"epoch\": 1, \"model\": 11}, \"Metrics\": {\"train_absolute_loss_objective\": {\"sum\": 0.8377000331878662, \"count\": 1, \"min\": 0.8377000331878662, \"max\": 0.8377000331878662}}}\u001b[0m\n",
      "\u001b[34m#metrics {\"StartTime\": 1752226610.1923213, \"EndTime\": 1752226610.1923327, \"Dimensions\": {\"Algorithm\": \"Linear Learner\", \"Host\": \"algo-1\", \"Operation\": \"training\", \"epoch\": 1, \"model\": 12}, \"Metrics\": {\"train_absolute_loss_objective\": {\"sum\": 0.35166302919387815, \"count\": 1, \"min\": 0.35166302919387815, \"max\": 0.35166302919387815}}}\u001b[0m\n",
      "\u001b[34m#metrics {\"StartTime\": 1752226610.1923654, \"EndTime\": 1752226610.1923742, \"Dimensions\": {\"Algorithm\": \"Linear Learner\", \"Host\": \"algo-1\", \"Operation\": \"training\", \"epoch\": 1, \"model\": 13}, \"Metrics\": {\"train_absolute_loss_objective\": {\"sum\": 0.38920521140098574, \"count\": 1, \"min\": 0.38920521140098574, \"max\": 0.38920521140098574}}}\u001b[0m\n",
      "\u001b[34m#metrics {\"StartTime\": 1752226610.192406, \"EndTime\": 1752226610.1924143, \"Dimensions\": {\"Algorithm\": \"Linear Learner\", \"Host\": \"algo-1\", \"Operation\": \"training\", \"epoch\": 1, \"model\": 14}, \"Metrics\": {\"train_absolute_loss_objective\": {\"sum\": 0.3505405843257904, \"count\": 1, \"min\": 0.3505405843257904, \"max\": 0.3505405843257904}}}\u001b[0m\n",
      "\u001b[34m#metrics {\"StartTime\": 1752226610.1924827, \"EndTime\": 1752226610.1924946, \"Dimensions\": {\"Algorithm\": \"Linear Learner\", \"Host\": \"algo-1\", \"Operation\": \"training\", \"epoch\": 1, \"model\": 15}, \"Metrics\": {\"train_absolute_loss_objective\": {\"sum\": 0.3943463504314423, \"count\": 1, \"min\": 0.3943463504314423, \"max\": 0.3943463504314423}}}\u001b[0m\n",
      "\u001b[34m#metrics {\"StartTime\": 1752226610.1925647, \"EndTime\": 1752226610.192576, \"Dimensions\": {\"Algorithm\": \"Linear Learner\", \"Host\": \"algo-1\", \"Operation\": \"training\", \"epoch\": 1, \"model\": 16}, \"Metrics\": {\"train_absolute_loss_objective\": {\"sum\": 0.8218567371368408, \"count\": 1, \"min\": 0.8218567371368408, \"max\": 0.8218567371368408}}}\u001b[0m\n",
      "\u001b[34m#metrics {\"StartTime\": 1752226610.192695, \"EndTime\": 1752226610.192708, \"Dimensions\": {\"Algorithm\": \"Linear Learner\", \"Host\": \"algo-1\", \"Operation\": \"training\", \"epoch\": 1, \"model\": 17}, \"Metrics\": {\"train_absolute_loss_objective\": {\"sum\": 0.8730758607387543, \"count\": 1, \"min\": 0.8730758607387543, \"max\": 0.8730758607387543}}}\u001b[0m\n",
      "\u001b[34m#metrics {\"StartTime\": 1752226610.1927447, \"EndTime\": 1752226610.1927536, \"Dimensions\": {\"Algorithm\": \"Linear Learner\", \"Host\": \"algo-1\", \"Operation\": \"training\", \"epoch\": 1, \"model\": 18}, \"Metrics\": {\"train_absolute_loss_objective\": {\"sum\": 0.848900842666626, \"count\": 1, \"min\": 0.848900842666626, \"max\": 0.848900842666626}}}\u001b[0m\n",
      "\u001b[34m#metrics {\"StartTime\": 1752226610.1927857, \"EndTime\": 1752226610.192794, \"Dimensions\": {\"Algorithm\": \"Linear Learner\", \"Host\": \"algo-1\", \"Operation\": \"training\", \"epoch\": 1, \"model\": 19}, \"Metrics\": {\"train_absolute_loss_objective\": {\"sum\": 0.8462007522583008, \"count\": 1, \"min\": 0.8462007522583008, \"max\": 0.8462007522583008}}}\u001b[0m\n",
      "\u001b[34m#metrics {\"StartTime\": 1752226610.1928813, \"EndTime\": 1752226610.192894, \"Dimensions\": {\"Algorithm\": \"Linear Learner\", \"Host\": \"algo-1\", \"Operation\": \"training\", \"epoch\": 1, \"model\": 20}, \"Metrics\": {\"train_absolute_loss_objective\": {\"sum\": 0.4380494117736816, \"count\": 1, \"min\": 0.4380494117736816, \"max\": 0.4380494117736816}}}\u001b[0m\n",
      "\u001b[34m#metrics {\"StartTime\": 1752226610.1929836, \"EndTime\": 1752226610.1929963, \"Dimensions\": {\"Algorithm\": \"Linear Learner\", \"Host\": \"algo-1\", \"Operation\": \"training\", \"epoch\": 1, \"model\": 21}, \"Metrics\": {\"train_absolute_loss_objective\": {\"sum\": 0.4502288460731506, \"count\": 1, \"min\": 0.4502288460731506, \"max\": 0.4502288460731506}}}\u001b[0m\n",
      "\u001b[34m#metrics {\"StartTime\": 1752226610.1930294, \"EndTime\": 1752226610.193038, \"Dimensions\": {\"Algorithm\": \"Linear Learner\", \"Host\": \"algo-1\", \"Operation\": \"training\", \"epoch\": 1, \"model\": 22}, \"Metrics\": {\"train_absolute_loss_objective\": {\"sum\": 0.4039044797420502, \"count\": 1, \"min\": 0.4039044797420502, \"max\": 0.4039044797420502}}}\u001b[0m\n",
      "\u001b[34m#metrics {\"StartTime\": 1752226610.1930676, \"EndTime\": 1752226610.1930761, \"Dimensions\": {\"Algorithm\": \"Linear Learner\", \"Host\": \"algo-1\", \"Operation\": \"training\", \"epoch\": 1, \"model\": 23}, \"Metrics\": {\"train_absolute_loss_objective\": {\"sum\": 0.4715564906597137, \"count\": 1, \"min\": 0.4715564906597137, \"max\": 0.4715564906597137}}}\u001b[0m\n",
      "\u001b[34m#metrics {\"StartTime\": 1752226610.193108, \"EndTime\": 1752226610.1931157, \"Dimensions\": {\"Algorithm\": \"Linear Learner\", \"Host\": \"algo-1\", \"Operation\": \"training\", \"epoch\": 1, \"model\": 24}, \"Metrics\": {\"train_absolute_loss_objective\": {\"sum\": 0.8654110729694366, \"count\": 1, \"min\": 0.8654110729694366, \"max\": 0.8654110729694366}}}\u001b[0m\n",
      "\u001b[34m#metrics {\"StartTime\": 1752226610.1932006, \"EndTime\": 1752226610.193213, \"Dimensions\": {\"Algorithm\": \"Linear Learner\", \"Host\": \"algo-1\", \"Operation\": \"training\", \"epoch\": 1, \"model\": 25}, \"Metrics\": {\"train_absolute_loss_objective\": {\"sum\": 0.8921452939510346, \"count\": 1, \"min\": 0.8921452939510346, \"max\": 0.8921452939510346}}}\u001b[0m\n",
      "\u001b[34m#metrics {\"StartTime\": 1752226610.193299, \"EndTime\": 1752226610.1933105, \"Dimensions\": {\"Algorithm\": \"Linear Learner\", \"Host\": \"algo-1\", \"Operation\": \"training\", \"epoch\": 1, \"model\": 26}, \"Metrics\": {\"train_absolute_loss_objective\": {\"sum\": 0.8815853953361511, \"count\": 1, \"min\": 0.8815853953361511, \"max\": 0.8815853953361511}}}\u001b[0m\n",
      "\u001b[34m#metrics {\"StartTime\": 1752226610.193346, \"EndTime\": 1752226610.1933541, \"Dimensions\": {\"Algorithm\": \"Linear Learner\", \"Host\": \"algo-1\", \"Operation\": \"training\", \"epoch\": 1, \"model\": 27}, \"Metrics\": {\"train_absolute_loss_objective\": {\"sum\": 0.8810211062431336, \"count\": 1, \"min\": 0.8810211062431336, \"max\": 0.8810211062431336}}}\u001b[0m\n",
      "\u001b[34m#metrics {\"StartTime\": 1752226610.1933842, \"EndTime\": 1752226610.1933928, \"Dimensions\": {\"Algorithm\": \"Linear Learner\", \"Host\": \"algo-1\", \"Operation\": \"training\", \"epoch\": 1, \"model\": 28}, \"Metrics\": {\"train_absolute_loss_objective\": {\"sum\": 0.8974284291267395, \"count\": 1, \"min\": 0.8974284291267395, \"max\": 0.8974284291267395}}}\u001b[0m\n",
      "\u001b[34m#metrics {\"StartTime\": 1752226610.1934247, \"EndTime\": 1752226610.1934323, \"Dimensions\": {\"Algorithm\": \"Linear Learner\", \"Host\": \"algo-1\", \"Operation\": \"training\", \"epoch\": 1, \"model\": 29}, \"Metrics\": {\"train_absolute_loss_objective\": {\"sum\": 0.8968987703323364, \"count\": 1, \"min\": 0.8968987703323364, \"max\": 0.8968987703323364}}}\u001b[0m\n",
      "\u001b[34m#metrics {\"StartTime\": 1752226610.1935031, \"EndTime\": 1752226610.1935608, \"Dimensions\": {\"Algorithm\": \"Linear Learner\", \"Host\": \"algo-1\", \"Operation\": \"training\", \"epoch\": 1, \"model\": 30}, \"Metrics\": {\"train_absolute_loss_objective\": {\"sum\": 0.8972202420234681, \"count\": 1, \"min\": 0.8972202420234681, \"max\": 0.8972202420234681}}}\u001b[0m\n",
      "\u001b[34m#metrics {\"StartTime\": 1752226610.1935992, \"EndTime\": 1752226610.193609, \"Dimensions\": {\"Algorithm\": \"Linear Learner\", \"Host\": \"algo-1\", \"Operation\": \"training\", \"epoch\": 1, \"model\": 31}, \"Metrics\": {\"train_absolute_loss_objective\": {\"sum\": 0.8882903218269348, \"count\": 1, \"min\": 0.8882903218269348, \"max\": 0.8882903218269348}}}\u001b[0m\n",
      "\u001b[34m[07/11/2025 09:36:50 INFO 139681705682752] #quality_metric: host=algo-1, epoch=1, train absolute_loss_objective <loss>=0.8578685283660888\u001b[0m\n",
      "\u001b[34m[07/11/2025 09:36:50 INFO 139681705682752] #early_stopping_criteria_metric: host=algo-1, epoch=1, criteria=absolute_loss_objective, value=0.3280952155590057\u001b[0m\n",
      "\u001b[34m[07/11/2025 09:36:50 INFO 139681705682752] Epoch 1: Loss improved. Updating best model\u001b[0m\n",
      "\u001b[34m[07/11/2025 09:36:50 INFO 139681705682752] Saving model for epoch: 1\u001b[0m\n",
      "\u001b[34m[07/11/2025 09:36:50 INFO 139681705682752] Saved checkpoint to \"/tmp/tmpuhke7704/mx-mod-0000.params\"\u001b[0m\n",
      "\u001b[34m[07/11/2025 09:36:50 INFO 139681705682752] #progress_metric: host=algo-1, completed 33.333333333333336 % of epochs\u001b[0m\n",
      "\u001b[34m#metrics {\"StartTime\": 1752226610.1200576, \"EndTime\": 1752226610.2008598, \"Dimensions\": {\"Algorithm\": \"Linear Learner\", \"Host\": \"algo-1\", \"Operation\": \"training\", \"epoch\": 1, \"Meta\": \"training_data_iter\"}, \"Metrics\": {\"Total Records Seen\": {\"sum\": 64.0, \"count\": 1, \"min\": 64, \"max\": 64}, \"Total Batches Seen\": {\"sum\": 16.0, \"count\": 1, \"min\": 16, \"max\": 16}, \"Max Records Seen Between Resets\": {\"sum\": 20.0, \"count\": 1, \"min\": 20, \"max\": 20}, \"Max Batches Seen Between Resets\": {\"sum\": 5.0, \"count\": 1, \"min\": 5, \"max\": 5}, \"Reset Count\": {\"sum\": 4.0, \"count\": 1, \"min\": 4, \"max\": 4}, \"Number of Records Since Last Reset\": {\"sum\": 20.0, \"count\": 1, \"min\": 20, \"max\": 20}, \"Number of Batches Since Last Reset\": {\"sum\": 5.0, \"count\": 1, \"min\": 5, \"max\": 5}}}\u001b[0m\n",
      "\u001b[34m[07/11/2025 09:36:50 INFO 139681705682752] #throughput_metric: host=algo-1, train throughput=247.16575523288705 records/second\u001b[0m\n",
      "\u001b[34m[2025-07-11 09:36:50.266] [tensorio] [info] epoch_stats={\"data_pipeline\": \"/opt/ml/input/data/train\", \"epoch\": 8, \"duration\": 65, \"num_examples\": 5, \"num_bytes\": 960}\u001b[0m\n",
      "\u001b[34m#metrics {\"StartTime\": 1752226610.2666612, \"EndTime\": 1752226610.2667317, \"Dimensions\": {\"Algorithm\": \"Linear Learner\", \"Host\": \"algo-1\", \"Operation\": \"training\", \"epoch\": 2, \"model\": 0}, \"Metrics\": {\"train_absolute_loss_objective\": {\"sum\": 0.835104376077652, \"count\": 1, \"min\": 0.835104376077652, \"max\": 0.835104376077652}}}\u001b[0m\n",
      "\u001b[34m#metrics {\"StartTime\": 1752226610.266805, \"EndTime\": 1752226610.2668176, \"Dimensions\": {\"Algorithm\": \"Linear Learner\", \"Host\": \"algo-1\", \"Operation\": \"training\", \"epoch\": 2, \"model\": 1}, \"Metrics\": {\"train_absolute_loss_objective\": {\"sum\": 0.8551552414894104, \"count\": 1, \"min\": 0.8551552414894104, \"max\": 0.8551552414894104}}}\u001b[0m\n",
      "\u001b[34m#metrics {\"StartTime\": 1752226610.266932, \"EndTime\": 1752226610.2669451, \"Dimensions\": {\"Algorithm\": \"Linear Learner\", \"Host\": \"algo-1\", \"Operation\": \"training\", \"epoch\": 2, \"model\": 2}, \"Metrics\": {\"train_absolute_loss_objective\": {\"sum\": 0.8375429928302764, \"count\": 1, \"min\": 0.8375429928302764, \"max\": 0.8375429928302764}}}\u001b[0m\n",
      "\u001b[34m#metrics {\"StartTime\": 1752226610.266978, \"EndTime\": 1752226610.2669866, \"Dimensions\": {\"Algorithm\": \"Linear Learner\", \"Host\": \"algo-1\", \"Operation\": \"training\", \"epoch\": 2, \"model\": 3}, \"Metrics\": {\"train_absolute_loss_objective\": {\"sum\": 0.854126489162445, \"count\": 1, \"min\": 0.854126489162445, \"max\": 0.854126489162445}}}\u001b[0m\n",
      "\u001b[34m#metrics {\"StartTime\": 1752226610.2670178, \"EndTime\": 1752226610.267026, \"Dimensions\": {\"Algorithm\": \"Linear Learner\", \"Host\": \"algo-1\", \"Operation\": \"training\", \"epoch\": 2, \"model\": 4}, \"Metrics\": {\"train_absolute_loss_objective\": {\"sum\": 0.22870714366436004, \"count\": 1, \"min\": 0.22870714366436004, \"max\": 0.22870714366436004}}}\u001b[0m\n",
      "\u001b[34m#metrics {\"StartTime\": 1752226610.267054, \"EndTime\": 1752226610.2671099, \"Dimensions\": {\"Algorithm\": \"Linear Learner\", \"Host\": \"algo-1\", \"Operation\": \"training\", \"epoch\": 2, \"model\": 5}, \"Metrics\": {\"train_absolute_loss_objective\": {\"sum\": 0.31834683418273924, \"count\": 1, \"min\": 0.31834683418273924, \"max\": 0.31834683418273924}}}\u001b[0m\n",
      "\u001b[34m#metrics {\"StartTime\": 1752226610.2671812, \"EndTime\": 1752226610.2671938, \"Dimensions\": {\"Algorithm\": \"Linear Learner\", \"Host\": \"algo-1\", \"Operation\": \"training\", \"epoch\": 2, \"model\": 6}, \"Metrics\": {\"train_absolute_loss_objective\": {\"sum\": 0.2275004893541336, \"count\": 1, \"min\": 0.2275004893541336, \"max\": 0.2275004893541336}}}\u001b[0m\n",
      "\u001b[34m#metrics {\"StartTime\": 1752226610.267229, \"EndTime\": 1752226610.2672386, \"Dimensions\": {\"Algorithm\": \"Linear Learner\", \"Host\": \"algo-1\", \"Operation\": \"training\", \"epoch\": 2, \"model\": 7}, \"Metrics\": {\"train_absolute_loss_objective\": {\"sum\": 0.22262198328971863, \"count\": 1, \"min\": 0.22262198328971863, \"max\": 0.22262198328971863}}}\u001b[0m\n",
      "\u001b[34m#metrics {\"StartTime\": 1752226610.2672899, \"EndTime\": 1752226610.2672987, \"Dimensions\": {\"Algorithm\": \"Linear Learner\", \"Host\": \"algo-1\", \"Operation\": \"training\", \"epoch\": 2, \"model\": 8}, \"Metrics\": {\"train_absolute_loss_objective\": {\"sum\": 0.8916274309158325, \"count\": 1, \"min\": 0.8916274309158325, \"max\": 0.8916274309158325}}}\u001b[0m\n",
      "\u001b[34m#metrics {\"StartTime\": 1752226610.2673965, \"EndTime\": 1752226610.2674093, \"Dimensions\": {\"Algorithm\": \"Linear Learner\", \"Host\": \"algo-1\", \"Operation\": \"training\", \"epoch\": 2, \"model\": 9}, \"Metrics\": {\"train_absolute_loss_objective\": {\"sum\": 0.8228626549243927, \"count\": 1, \"min\": 0.8228626549243927, \"max\": 0.8228626549243927}}}\u001b[0m\n",
      "\u001b[34m#metrics {\"StartTime\": 1752226610.2674801, \"EndTime\": 1752226610.2674918, \"Dimensions\": {\"Algorithm\": \"Linear Learner\", \"Host\": \"algo-1\", \"Operation\": \"training\", \"epoch\": 2, \"model\": 10}, \"Metrics\": {\"train_absolute_loss_objective\": {\"sum\": 0.8297162473201751, \"count\": 1, \"min\": 0.8297162473201751, \"max\": 0.8297162473201751}}}\u001b[0m\n",
      "\u001b[34m#metrics {\"StartTime\": 1752226610.2675252, \"EndTime\": 1752226610.267534, \"Dimensions\": {\"Algorithm\": \"Linear Learner\", \"Host\": \"algo-1\", \"Operation\": \"training\", \"epoch\": 2, \"model\": 11}, \"Metrics\": {\"train_absolute_loss_objective\": {\"sum\": 0.8146581649780273, \"count\": 1, \"min\": 0.8146581649780273, \"max\": 0.8146581649780273}}}\u001b[0m\n",
      "\u001b[34m#metrics {\"StartTime\": 1752226610.2675657, \"EndTime\": 1752226610.267574, \"Dimensions\": {\"Algorithm\": \"Linear Learner\", \"Host\": \"algo-1\", \"Operation\": \"training\", \"epoch\": 2, \"model\": 12}, \"Metrics\": {\"train_absolute_loss_objective\": {\"sum\": 0.31630079746246337, \"count\": 1, \"min\": 0.31630079746246337, \"max\": 0.31630079746246337}}}\u001b[0m\n",
      "\u001b[34m#metrics {\"StartTime\": 1752226610.2676582, \"EndTime\": 1752226610.2676709, \"Dimensions\": {\"Algorithm\": \"Linear Learner\", \"Host\": \"algo-1\", \"Operation\": \"training\", \"epoch\": 2, \"model\": 13}, \"Metrics\": {\"train_absolute_loss_objective\": {\"sum\": 0.237480092048645, \"count\": 1, \"min\": 0.237480092048645, \"max\": 0.237480092048645}}}\u001b[0m\n",
      "\u001b[34m#metrics {\"StartTime\": 1752226610.2677422, \"EndTime\": 1752226610.2677543, \"Dimensions\": {\"Algorithm\": \"Linear Learner\", \"Host\": \"algo-1\", \"Operation\": \"training\", \"epoch\": 2, \"model\": 14}, \"Metrics\": {\"train_absolute_loss_objective\": {\"sum\": 0.31690812706947324, \"count\": 1, \"min\": 0.31690812706947324, \"max\": 0.31690812706947324}}}\u001b[0m\n",
      "\u001b[34m#metrics {\"StartTime\": 1752226610.2677877, \"EndTime\": 1752226610.267797, \"Dimensions\": {\"Algorithm\": \"Linear Learner\", \"Host\": \"algo-1\", \"Operation\": \"training\", \"epoch\": 2, \"model\": 15}, \"Metrics\": {\"train_absolute_loss_objective\": {\"sum\": 0.23406062126159669, \"count\": 1, \"min\": 0.23406062126159669, \"max\": 0.23406062126159669}}}\u001b[0m\n",
      "\u001b[34m#metrics {\"StartTime\": 1752226610.2678287, \"EndTime\": 1752226610.2678368, \"Dimensions\": {\"Algorithm\": \"Linear Learner\", \"Host\": \"algo-1\", \"Operation\": \"training\", \"epoch\": 2, \"model\": 16}, \"Metrics\": {\"train_absolute_loss_objective\": {\"sum\": 0.7990043461322784, \"count\": 1, \"min\": 0.7990043461322784, \"max\": 0.7990043461322784}}}\u001b[0m\n",
      "\u001b[34m#metrics {\"StartTime\": 1752226610.267926, \"EndTime\": 1752226610.2679691, \"Dimensions\": {\"Algorithm\": \"Linear Learner\", \"Host\": \"algo-1\", \"Operation\": \"training\", \"epoch\": 2, \"model\": 17}, \"Metrics\": {\"train_absolute_loss_objective\": {\"sum\": 0.850513219833374, \"count\": 1, \"min\": 0.850513219833374, \"max\": 0.850513219833374}}}\u001b[0m\n",
      "\u001b[34m#metrics {\"StartTime\": 1752226610.268009, \"EndTime\": 1752226610.2680187, \"Dimensions\": {\"Algorithm\": \"Linear Learner\", \"Host\": \"algo-1\", \"Operation\": \"training\", \"epoch\": 2, \"model\": 18}, \"Metrics\": {\"train_absolute_loss_objective\": {\"sum\": 0.8262401819229126, \"count\": 1, \"min\": 0.8262401819229126, \"max\": 0.8262401819229126}}}\u001b[0m\n",
      "\u001b[34m#metrics {\"StartTime\": 1752226610.2680519, \"EndTime\": 1752226610.2680607, \"Dimensions\": {\"Algorithm\": \"Linear Learner\", \"Host\": \"algo-1\", \"Operation\": \"training\", \"epoch\": 2, \"model\": 19}, \"Metrics\": {\"train_absolute_loss_objective\": {\"sum\": 0.8234413743019104, \"count\": 1, \"min\": 0.8234413743019104, \"max\": 0.8234413743019104}}}\u001b[0m\n",
      "\u001b[34m#metrics {\"StartTime\": 1752226610.2680898, \"EndTime\": 1752226610.2681549, \"Dimensions\": {\"Algorithm\": \"Linear Learner\", \"Host\": \"algo-1\", \"Operation\": \"training\", \"epoch\": 2, \"model\": 20}, \"Metrics\": {\"train_absolute_loss_objective\": {\"sum\": 0.30810593962669375, \"count\": 1, \"min\": 0.30810593962669375, \"max\": 0.30810593962669375}}}\u001b[0m\n",
      "\u001b[34m#metrics {\"StartTime\": 1752226610.2681942, \"EndTime\": 1752226610.2682037, \"Dimensions\": {\"Algorithm\": \"Linear Learner\", \"Host\": \"algo-1\", \"Operation\": \"training\", \"epoch\": 2, \"model\": 21}, \"Metrics\": {\"train_absolute_loss_objective\": {\"sum\": 0.2951433598995209, \"count\": 1, \"min\": 0.2951433598995209, \"max\": 0.2951433598995209}}}\u001b[0m\n",
      "\u001b[34m#metrics {\"StartTime\": 1752226610.268234, \"EndTime\": 1752226610.2682421, \"Dimensions\": {\"Algorithm\": \"Linear Learner\", \"Host\": \"algo-1\", \"Operation\": \"training\", \"epoch\": 2, \"model\": 22}, \"Metrics\": {\"train_absolute_loss_objective\": {\"sum\": 0.228932785987854, \"count\": 1, \"min\": 0.228932785987854, \"max\": 0.228932785987854}}}\u001b[0m\n",
      "\u001b[34m#metrics {\"StartTime\": 1752226610.2682724, \"EndTime\": 1752226610.26828, \"Dimensions\": {\"Algorithm\": \"Linear Learner\", \"Host\": \"algo-1\", \"Operation\": \"training\", \"epoch\": 2, \"model\": 23}, \"Metrics\": {\"train_absolute_loss_objective\": {\"sum\": 0.3004267930984497, \"count\": 1, \"min\": 0.3004267930984497, \"max\": 0.3004267930984497}}}\u001b[0m\n",
      "\u001b[34m#metrics {\"StartTime\": 1752226610.268349, \"EndTime\": 1752226610.268417, \"Dimensions\": {\"Algorithm\": \"Linear Learner\", \"Host\": \"algo-1\", \"Operation\": \"training\", \"epoch\": 2, \"model\": 24}, \"Metrics\": {\"train_absolute_loss_objective\": {\"sum\": 0.881286370754242, \"count\": 1, \"min\": 0.881286370754242, \"max\": 0.881286370754242}}}\u001b[0m\n",
      "\u001b[34m#metrics {\"StartTime\": 1752226610.2684586, \"EndTime\": 1752226610.2684693, \"Dimensions\": {\"Algorithm\": \"Linear Learner\", \"Host\": \"algo-1\", \"Operation\": \"training\", \"epoch\": 2, \"model\": 25}, \"Metrics\": {\"train_absolute_loss_objective\": {\"sum\": 0.8766102850437164, \"count\": 1, \"min\": 0.8766102850437164, \"max\": 0.8766102850437164}}}\u001b[0m\n",
      "\u001b[34m#metrics {\"StartTime\": 1752226610.2684996, \"EndTime\": 1752226610.2685087, \"Dimensions\": {\"Algorithm\": \"Linear Learner\", \"Host\": \"algo-1\", \"Operation\": \"training\", \"epoch\": 2, \"model\": 26}, \"Metrics\": {\"train_absolute_loss_objective\": {\"sum\": 0.8754633605480194, \"count\": 1, \"min\": 0.8754633605480194, \"max\": 0.8754633605480194}}}\u001b[0m\n",
      "\u001b[34m#metrics {\"StartTime\": 1752226610.2685368, \"EndTime\": 1752226610.2686026, \"Dimensions\": {\"Algorithm\": \"Linear Learner\", \"Host\": \"algo-1\", \"Operation\": \"training\", \"epoch\": 2, \"model\": 27}, \"Metrics\": {\"train_absolute_loss_objective\": {\"sum\": 0.884713214635849, \"count\": 1, \"min\": 0.884713214635849, \"max\": 0.884713214635849}}}\u001b[0m\n",
      "\u001b[34m#metrics {\"StartTime\": 1752226610.268675, \"EndTime\": 1752226610.2686892, \"Dimensions\": {\"Algorithm\": \"Linear Learner\", \"Host\": \"algo-1\", \"Operation\": \"training\", \"epoch\": 2, \"model\": 28}, \"Metrics\": {\"train_absolute_loss_objective\": {\"sum\": 0.9478712677955627, \"count\": 1, \"min\": 0.9478712677955627, \"max\": 0.9478712677955627}}}\u001b[0m\n",
      "\u001b[34m#metrics {\"StartTime\": 1752226610.2687252, \"EndTime\": 1752226610.2687352, \"Dimensions\": {\"Algorithm\": \"Linear Learner\", \"Host\": \"algo-1\", \"Operation\": \"training\", \"epoch\": 2, \"model\": 29}, \"Metrics\": {\"train_absolute_loss_objective\": {\"sum\": 0.9487159132957459, \"count\": 1, \"min\": 0.9487159132957459, \"max\": 0.9487159132957459}}}\u001b[0m\n",
      "\u001b[34m#metrics {\"StartTime\": 1752226610.2687666, \"EndTime\": 1752226610.2687755, \"Dimensions\": {\"Algorithm\": \"Linear Learner\", \"Host\": \"algo-1\", \"Operation\": \"training\", \"epoch\": 2, \"model\": 30}, \"Metrics\": {\"train_absolute_loss_objective\": {\"sum\": 0.952383291721344, \"count\": 1, \"min\": 0.952383291721344, \"max\": 0.952383291721344}}}\u001b[0m\n",
      "\u001b[34m#metrics {\"StartTime\": 1752226610.2688591, \"EndTime\": 1752226610.2688727, \"Dimensions\": {\"Algorithm\": \"Linear Learner\", \"Host\": \"algo-1\", \"Operation\": \"training\", \"epoch\": 2, \"model\": 31}, \"Metrics\": {\"train_absolute_loss_objective\": {\"sum\": 0.9676130890846253, \"count\": 1, \"min\": 0.9676130890846253, \"max\": 0.9676130890846253}}}\u001b[0m\n",
      "\u001b[34m[07/11/2025 09:36:50 INFO 139681705682752] #quality_metric: host=algo-1, epoch=2, train absolute_loss_objective <loss>=0.835104376077652\u001b[0m\n",
      "\u001b[34m[07/11/2025 09:36:50 INFO 139681705682752] #early_stopping_criteria_metric: host=algo-1, epoch=2, criteria=absolute_loss_objective, value=0.22262198328971863\u001b[0m\n",
      "\u001b[34m[07/11/2025 09:36:50 INFO 139681705682752] Epoch 2: Loss improved. Updating best model\u001b[0m\n",
      "\u001b[34m[07/11/2025 09:36:50 INFO 139681705682752] Saving model for epoch: 2\u001b[0m\n",
      "\u001b[34m[07/11/2025 09:36:50 INFO 139681705682752] Saved checkpoint to \"/tmp/tmp2jhfxrkt/mx-mod-0000.params\"\u001b[0m\n",
      "\u001b[34m[07/11/2025 09:36:50 INFO 139681705682752] #progress_metric: host=algo-1, completed 50.0 % of epochs\u001b[0m\n",
      "\u001b[34m#metrics {\"StartTime\": 1752226610.2010977, \"EndTime\": 1752226610.2783527, \"Dimensions\": {\"Algorithm\": \"Linear Learner\", \"Host\": \"algo-1\", \"Operation\": \"training\", \"epoch\": 2, \"Meta\": \"training_data_iter\"}, \"Metrics\": {\"Total Records Seen\": {\"sum\": 84.0, \"count\": 1, \"min\": 84, \"max\": 84}, \"Total Batches Seen\": {\"sum\": 21.0, \"count\": 1, \"min\": 21, \"max\": 21}, \"Max Records Seen Between Resets\": {\"sum\": 20.0, \"count\": 1, \"min\": 20, \"max\": 20}, \"Max Batches Seen Between Resets\": {\"sum\": 5.0, \"count\": 1, \"min\": 5, \"max\": 5}, \"Reset Count\": {\"sum\": 5.0, \"count\": 1, \"min\": 5, \"max\": 5}, \"Number of Records Since Last Reset\": {\"sum\": 20.0, \"count\": 1, \"min\": 20, \"max\": 20}, \"Number of Batches Since Last Reset\": {\"sum\": 5.0, \"count\": 1, \"min\": 5, \"max\": 5}}}\u001b[0m\n",
      "\u001b[34m[07/11/2025 09:36:50 INFO 139681705682752] #throughput_metric: host=algo-1, train throughput=258.4896032342754 records/second\u001b[0m\n",
      "\u001b[34m[2025-07-11 09:36:50.349] [tensorio] [info] epoch_stats={\"data_pipeline\": \"/opt/ml/input/data/train\", \"epoch\": 10, \"duration\": 71, \"num_examples\": 5, \"num_bytes\": 960}\u001b[0m\n",
      "\u001b[34m#metrics {\"StartTime\": 1752226610.3499577, \"EndTime\": 1752226610.3501868, \"Dimensions\": {\"Algorithm\": \"Linear Learner\", \"Host\": \"algo-1\", \"Operation\": \"training\", \"epoch\": 3, \"model\": 0}, \"Metrics\": {\"train_absolute_loss_objective\": {\"sum\": 0.8156224370002747, \"count\": 1, \"min\": 0.8156224370002747, \"max\": 0.8156224370002747}}}\u001b[0m\n",
      "\u001b[34m#metrics {\"StartTime\": 1752226610.3502605, \"EndTime\": 1752226610.3502734, \"Dimensions\": {\"Algorithm\": \"Linear Learner\", \"Host\": \"algo-1\", \"Operation\": \"training\", \"epoch\": 3, \"model\": 1}, \"Metrics\": {\"train_absolute_loss_objective\": {\"sum\": 0.8341834366321563, \"count\": 1, \"min\": 0.8341834366321563, \"max\": 0.8341834366321563}}}\u001b[0m\n",
      "\u001b[34m#metrics {\"StartTime\": 1752226610.3503091, \"EndTime\": 1752226610.3503184, \"Dimensions\": {\"Algorithm\": \"Linear Learner\", \"Host\": \"algo-1\", \"Operation\": \"training\", \"epoch\": 3, \"model\": 2}, \"Metrics\": {\"train_absolute_loss_objective\": {\"sum\": 0.8178849339485168, \"count\": 1, \"min\": 0.8178849339485168, \"max\": 0.8178849339485168}}}\u001b[0m\n",
      "\u001b[34m#metrics {\"StartTime\": 1752226610.3503506, \"EndTime\": 1752226610.3503587, \"Dimensions\": {\"Algorithm\": \"Linear Learner\", \"Host\": \"algo-1\", \"Operation\": \"training\", \"epoch\": 3, \"model\": 3}, \"Metrics\": {\"train_absolute_loss_objective\": {\"sum\": 0.8332065343856812, \"count\": 1, \"min\": 0.8332065343856812, \"max\": 0.8332065343856812}}}\u001b[0m\n",
      "\u001b[34m#metrics {\"StartTime\": 1752226610.3503892, \"EndTime\": 1752226610.3503962, \"Dimensions\": {\"Algorithm\": \"Linear Learner\", \"Host\": \"algo-1\", \"Operation\": \"training\", \"epoch\": 3, \"model\": 4}, \"Metrics\": {\"train_absolute_loss_objective\": {\"sum\": 0.2762642472982407, \"count\": 1, \"min\": 0.2762642472982407, \"max\": 0.2762642472982407}}}\u001b[0m\n",
      "\u001b[34m#metrics {\"StartTime\": 1752226610.3504233, \"EndTime\": 1752226610.350431, \"Dimensions\": {\"Algorithm\": \"Linear Learner\", \"Host\": \"algo-1\", \"Operation\": \"training\", \"epoch\": 3, \"model\": 5}, \"Metrics\": {\"train_absolute_loss_objective\": {\"sum\": 0.3653902322053909, \"count\": 1, \"min\": 0.3653902322053909, \"max\": 0.3653902322053909}}}\u001b[0m\n",
      "\u001b[34m#metrics {\"StartTime\": 1752226610.3504581, \"EndTime\": 1752226610.3504658, \"Dimensions\": {\"Algorithm\": \"Linear Learner\", \"Host\": \"algo-1\", \"Operation\": \"training\", \"epoch\": 3, \"model\": 6}, \"Metrics\": {\"train_absolute_loss_objective\": {\"sum\": 0.2809340327978134, \"count\": 1, \"min\": 0.2809340327978134, \"max\": 0.2809340327978134}}}\u001b[0m\n",
      "\u001b[34m#metrics {\"StartTime\": 1752226610.350493, \"EndTime\": 1752226610.3505006, \"Dimensions\": {\"Algorithm\": \"Linear Learner\", \"Host\": \"algo-1\", \"Operation\": \"training\", \"epoch\": 3, \"model\": 7}, \"Metrics\": {\"train_absolute_loss_objective\": {\"sum\": 0.27183857560157776, \"count\": 1, \"min\": 0.27183857560157776, \"max\": 0.27183857560157776}}}\u001b[0m\n",
      "\u001b[34m#metrics {\"StartTime\": 1752226610.35053, \"EndTime\": 1752226610.3505383, \"Dimensions\": {\"Algorithm\": \"Linear Learner\", \"Host\": \"algo-1\", \"Operation\": \"training\", \"epoch\": 3, \"model\": 8}, \"Metrics\": {\"train_absolute_loss_objective\": {\"sum\": 0.8708670377731323, \"count\": 1, \"min\": 0.8708670377731323, \"max\": 0.8708670377731323}}}\u001b[0m\n",
      "\u001b[34m#metrics {\"StartTime\": 1752226610.3505669, \"EndTime\": 1752226610.3505743, \"Dimensions\": {\"Algorithm\": \"Linear Learner\", \"Host\": \"algo-1\", \"Operation\": \"training\", \"epoch\": 3, \"model\": 9}, \"Metrics\": {\"train_absolute_loss_objective\": {\"sum\": 0.804203188419342, \"count\": 1, \"min\": 0.804203188419342, \"max\": 0.804203188419342}}}\u001b[0m\n",
      "\u001b[34m#metrics {\"StartTime\": 1752226610.3506021, \"EndTime\": 1752226610.3506107, \"Dimensions\": {\"Algorithm\": \"Linear Learner\", \"Host\": \"algo-1\", \"Operation\": \"training\", \"epoch\": 3, \"model\": 10}, \"Metrics\": {\"train_absolute_loss_objective\": {\"sum\": 0.8106261312961578, \"count\": 1, \"min\": 0.8106261312961578, \"max\": 0.8106261312961578}}}\u001b[0m\n",
      "\u001b[34m#metrics {\"StartTime\": 1752226610.3506417, \"EndTime\": 1752226610.3506498, \"Dimensions\": {\"Algorithm\": \"Linear Learner\", \"Host\": \"algo-1\", \"Operation\": \"training\", \"epoch\": 3, \"model\": 11}, \"Metrics\": {\"train_absolute_loss_objective\": {\"sum\": 0.7965913414955139, \"count\": 1, \"min\": 0.7965913414955139, \"max\": 0.7965913414955139}}}\u001b[0m\n",
      "\u001b[34m#metrics {\"StartTime\": 1752226610.3506777, \"EndTime\": 1752226610.3506854, \"Dimensions\": {\"Algorithm\": \"Linear Learner\", \"Host\": \"algo-1\", \"Operation\": \"training\", \"epoch\": 3, \"model\": 12}, \"Metrics\": {\"train_absolute_loss_objective\": {\"sum\": 0.3599513381719589, \"count\": 1, \"min\": 0.3599513381719589, \"max\": 0.3599513381719589}}}\u001b[0m\n",
      "\u001b[34m#metrics {\"StartTime\": 1752226610.3507125, \"EndTime\": 1752226610.3507204, \"Dimensions\": {\"Algorithm\": \"Linear Learner\", \"Host\": \"algo-1\", \"Operation\": \"training\", \"epoch\": 3, \"model\": 13}, \"Metrics\": {\"train_absolute_loss_objective\": {\"sum\": 0.2909653425216675, \"count\": 1, \"min\": 0.2909653425216675, \"max\": 0.2909653425216675}}}\u001b[0m\n",
      "\u001b[34m#metrics {\"StartTime\": 1752226610.350748, \"EndTime\": 1752226610.3507552, \"Dimensions\": {\"Algorithm\": \"Linear Learner\", \"Host\": \"algo-1\", \"Operation\": \"training\", \"epoch\": 3, \"model\": 14}, \"Metrics\": {\"train_absolute_loss_objective\": {\"sum\": 0.3605348140001297, \"count\": 1, \"min\": 0.3605348140001297, \"max\": 0.3605348140001297}}}\u001b[0m\n",
      "\u001b[34m#metrics {\"StartTime\": 1752226610.3507817, \"EndTime\": 1752226610.3507888, \"Dimensions\": {\"Algorithm\": \"Linear Learner\", \"Host\": \"algo-1\", \"Operation\": \"training\", \"epoch\": 3, \"model\": 15}, \"Metrics\": {\"train_absolute_loss_objective\": {\"sum\": 0.2896272122859955, \"count\": 1, \"min\": 0.2896272122859955, \"max\": 0.2896272122859955}}}\u001b[0m\n",
      "\u001b[34m#metrics {\"StartTime\": 1752226610.3508158, \"EndTime\": 1752226610.3508232, \"Dimensions\": {\"Algorithm\": \"Linear Learner\", \"Host\": \"algo-1\", \"Operation\": \"training\", \"epoch\": 3, \"model\": 16}, \"Metrics\": {\"train_absolute_loss_objective\": {\"sum\": 0.7825151920318604, \"count\": 1, \"min\": 0.7825151920318604, \"max\": 0.7825151920318604}}}\u001b[0m\n",
      "\u001b[34m#metrics {\"StartTime\": 1752226610.350852, \"EndTime\": 1752226610.35086, \"Dimensions\": {\"Algorithm\": \"Linear Learner\", \"Host\": \"algo-1\", \"Operation\": \"training\", \"epoch\": 3, \"model\": 17}, \"Metrics\": {\"train_absolute_loss_objective\": {\"sum\": 0.8301077723503113, \"count\": 1, \"min\": 0.8301077723503113, \"max\": 0.8301077723503113}}}\u001b[0m\n",
      "\u001b[34m#metrics {\"StartTime\": 1752226610.3508892, \"EndTime\": 1752226610.350898, \"Dimensions\": {\"Algorithm\": \"Linear Learner\", \"Host\": \"algo-1\", \"Operation\": \"training\", \"epoch\": 3, \"model\": 18}, \"Metrics\": {\"train_absolute_loss_objective\": {\"sum\": 0.8077096343040466, \"count\": 1, \"min\": 0.8077096343040466, \"max\": 0.8077096343040466}}}\u001b[0m\n",
      "\u001b[34m#metrics {\"StartTime\": 1752226610.3509262, \"EndTime\": 1752226610.3509343, \"Dimensions\": {\"Algorithm\": \"Linear Learner\", \"Host\": \"algo-1\", \"Operation\": \"training\", \"epoch\": 3, \"model\": 19}, \"Metrics\": {\"train_absolute_loss_objective\": {\"sum\": 0.8050595164299011, \"count\": 1, \"min\": 0.8050595164299011, \"max\": 0.8050595164299011}}}\u001b[0m\n",
      "\u001b[34m#metrics {\"StartTime\": 1752226610.3509643, \"EndTime\": 1752226610.3509724, \"Dimensions\": {\"Algorithm\": \"Linear Learner\", \"Host\": \"algo-1\", \"Operation\": \"training\", \"epoch\": 3, \"model\": 20}, \"Metrics\": {\"train_absolute_loss_objective\": {\"sum\": 0.38257628083229067, \"count\": 1, \"min\": 0.38257628083229067, \"max\": 0.38257628083229067}}}\u001b[0m\n",
      "\u001b[34m#metrics {\"StartTime\": 1752226610.3510008, \"EndTime\": 1752226610.3510091, \"Dimensions\": {\"Algorithm\": \"Linear Learner\", \"Host\": \"algo-1\", \"Operation\": \"training\", \"epoch\": 3, \"model\": 21}, \"Metrics\": {\"train_absolute_loss_objective\": {\"sum\": 0.3406782209873199, \"count\": 1, \"min\": 0.3406782209873199, \"max\": 0.3406782209873199}}}\u001b[0m\n",
      "\u001b[34m#metrics {\"StartTime\": 1752226610.351038, \"EndTime\": 1752226610.351046, \"Dimensions\": {\"Algorithm\": \"Linear Learner\", \"Host\": \"algo-1\", \"Operation\": \"training\", \"epoch\": 3, \"model\": 22}, \"Metrics\": {\"train_absolute_loss_objective\": {\"sum\": 0.2732657641172409, \"count\": 1, \"min\": 0.2732657641172409, \"max\": 0.2732657641172409}}}\u001b[0m\n",
      "\u001b[34m#metrics {\"StartTime\": 1752226610.3510787, \"EndTime\": 1752226610.351087, \"Dimensions\": {\"Algorithm\": \"Linear Learner\", \"Host\": \"algo-1\", \"Operation\": \"training\", \"epoch\": 3, \"model\": 23}, \"Metrics\": {\"train_absolute_loss_objective\": {\"sum\": 0.3388577699661255, \"count\": 1, \"min\": 0.3388577699661255, \"max\": 0.3388577699661255}}}\u001b[0m\n",
      "\u001b[34m#metrics {\"StartTime\": 1752226610.3511171, \"EndTime\": 1752226610.351125, \"Dimensions\": {\"Algorithm\": \"Linear Learner\", \"Host\": \"algo-1\", \"Operation\": \"training\", \"epoch\": 3, \"model\": 24}, \"Metrics\": {\"train_absolute_loss_objective\": {\"sum\": 0.8923075914382934, \"count\": 1, \"min\": 0.8923075914382934, \"max\": 0.8923075914382934}}}\u001b[0m\n",
      "\u001b[34m#metrics {\"StartTime\": 1752226610.3511536, \"EndTime\": 1752226610.3511617, \"Dimensions\": {\"Algorithm\": \"Linear Learner\", \"Host\": \"algo-1\", \"Operation\": \"training\", \"epoch\": 3, \"model\": 25}, \"Metrics\": {\"train_absolute_loss_objective\": {\"sum\": 0.8728407919406891, \"count\": 1, \"min\": 0.8728407919406891, \"max\": 0.8728407919406891}}}\u001b[0m\n",
      "\u001b[34m#metrics {\"StartTime\": 1752226610.3511913, \"EndTime\": 1752226610.351199, \"Dimensions\": {\"Algorithm\": \"Linear Learner\", \"Host\": \"algo-1\", \"Operation\": \"training\", \"epoch\": 3, \"model\": 26}, \"Metrics\": {\"train_absolute_loss_objective\": {\"sum\": 0.8810544192790986, \"count\": 1, \"min\": 0.8810544192790986, \"max\": 0.8810544192790986}}}\u001b[0m\n",
      "\u001b[34m#metrics {\"StartTime\": 1752226610.351229, \"EndTime\": 1752226610.3512368, \"Dimensions\": {\"Algorithm\": \"Linear Learner\", \"Host\": \"algo-1\", \"Operation\": \"training\", \"epoch\": 3, \"model\": 27}, \"Metrics\": {\"train_absolute_loss_objective\": {\"sum\": 0.8857101321220398, \"count\": 1, \"min\": 0.8857101321220398, \"max\": 0.8857101321220398}}}\u001b[0m\n",
      "\u001b[34m#metrics {\"StartTime\": 1752226610.3512883, \"EndTime\": 1752226610.3512979, \"Dimensions\": {\"Algorithm\": \"Linear Learner\", \"Host\": \"algo-1\", \"Operation\": \"training\", \"epoch\": 3, \"model\": 28}, \"Metrics\": {\"train_absolute_loss_objective\": {\"sum\": 0.9410763502120971, \"count\": 1, \"min\": 0.9410763502120971, \"max\": 0.9410763502120971}}}\u001b[0m\n",
      "\u001b[34m#metrics {\"StartTime\": 1752226610.351328, \"EndTime\": 1752226610.3513362, \"Dimensions\": {\"Algorithm\": \"Linear Learner\", \"Host\": \"algo-1\", \"Operation\": \"training\", \"epoch\": 3, \"model\": 29}, \"Metrics\": {\"train_absolute_loss_objective\": {\"sum\": 0.9431222200393676, \"count\": 1, \"min\": 0.9431222200393676, \"max\": 0.9431222200393676}}}\u001b[0m\n",
      "\u001b[34m#metrics {\"StartTime\": 1752226610.3513649, \"EndTime\": 1752226610.3513725, \"Dimensions\": {\"Algorithm\": \"Linear Learner\", \"Host\": \"algo-1\", \"Operation\": \"training\", \"epoch\": 3, \"model\": 30}, \"Metrics\": {\"train_absolute_loss_objective\": {\"sum\": 0.9431344389915466, \"count\": 1, \"min\": 0.9431344389915466, \"max\": 0.9431344389915466}}}\u001b[0m\n",
      "\u001b[34m#metrics {\"StartTime\": 1752226610.3514035, \"EndTime\": 1752226610.3514125, \"Dimensions\": {\"Algorithm\": \"Linear Learner\", \"Host\": \"algo-1\", \"Operation\": \"training\", \"epoch\": 3, \"model\": 31}, \"Metrics\": {\"train_absolute_loss_objective\": {\"sum\": 0.9189320921897888, \"count\": 1, \"min\": 0.9189320921897888, \"max\": 0.9189320921897888}}}\u001b[0m\n",
      "\u001b[34m[07/11/2025 09:36:50 INFO 139681705682752] #quality_metric: host=algo-1, epoch=3, train absolute_loss_objective <loss>=0.8156224370002747\u001b[0m\n",
      "\u001b[34m[07/11/2025 09:36:50 INFO 139681705682752] #early_stopping_criteria_metric: host=algo-1, epoch=3, criteria=absolute_loss_objective, value=0.27183857560157776\u001b[0m\n",
      "\u001b[34m[07/11/2025 09:36:50 INFO 139681705682752] Saving model for epoch: 3\u001b[0m\n",
      "\u001b[34m[07/11/2025 09:36:50 INFO 139681705682752] Saved checkpoint to \"/tmp/tmpygmsu_7h/mx-mod-0000.params\"\u001b[0m\n",
      "\u001b[34m[07/11/2025 09:36:50 INFO 139681705682752] #progress_metric: host=algo-1, completed 66.66666666666667 % of epochs\u001b[0m\n",
      "\u001b[34m#metrics {\"StartTime\": 1752226610.2786968, \"EndTime\": 1752226610.3581913, \"Dimensions\": {\"Algorithm\": \"Linear Learner\", \"Host\": \"algo-1\", \"Operation\": \"training\", \"epoch\": 3, \"Meta\": \"training_data_iter\"}, \"Metrics\": {\"Total Records Seen\": {\"sum\": 104.0, \"count\": 1, \"min\": 104, \"max\": 104}, \"Total Batches Seen\": {\"sum\": 26.0, \"count\": 1, \"min\": 26, \"max\": 26}, \"Max Records Seen Between Resets\": {\"sum\": 20.0, \"count\": 1, \"min\": 20, \"max\": 20}, \"Max Batches Seen Between Resets\": {\"sum\": 5.0, \"count\": 1, \"min\": 5, \"max\": 5}, \"Reset Count\": {\"sum\": 6.0, \"count\": 1, \"min\": 6, \"max\": 6}, \"Number of Records Since Last Reset\": {\"sum\": 20.0, \"count\": 1, \"min\": 20, \"max\": 20}, \"Number of Batches Since Last Reset\": {\"sum\": 5.0, \"count\": 1, \"min\": 5, \"max\": 5}}}\u001b[0m\n",
      "\u001b[34m[07/11/2025 09:36:50 INFO 139681705682752] #throughput_metric: host=algo-1, train throughput=251.2093289292035 records/second\u001b[0m\n",
      "\u001b[34m[2025-07-11 09:36:50.428] [tensorio] [info] epoch_stats={\"data_pipeline\": \"/opt/ml/input/data/train\", \"epoch\": 12, \"duration\": 69, \"num_examples\": 5, \"num_bytes\": 960}\u001b[0m\n",
      "\u001b[34m#metrics {\"StartTime\": 1752226610.428606, \"EndTime\": 1752226610.428683, \"Dimensions\": {\"Algorithm\": \"Linear Learner\", \"Host\": \"algo-1\", \"Operation\": \"training\", \"epoch\": 4, \"model\": 0}, \"Metrics\": {\"train_absolute_loss_objective\": {\"sum\": 0.7941442787647247, \"count\": 1, \"min\": 0.7941442787647247, \"max\": 0.7941442787647247}}}\u001b[0m\n",
      "\u001b[34m#metrics {\"StartTime\": 1752226610.4287484, \"EndTime\": 1752226610.4287608, \"Dimensions\": {\"Algorithm\": \"Linear Learner\", \"Host\": \"algo-1\", \"Operation\": \"training\", \"epoch\": 4, \"model\": 1}, \"Metrics\": {\"train_absolute_loss_objective\": {\"sum\": 0.8187985062599182, \"count\": 1, \"min\": 0.8187985062599182, \"max\": 0.8187985062599182}}}\u001b[0m\n",
      "\u001b[34m#metrics {\"StartTime\": 1752226610.4287965, \"EndTime\": 1752226610.4288054, \"Dimensions\": {\"Algorithm\": \"Linear Learner\", \"Host\": \"algo-1\", \"Operation\": \"training\", \"epoch\": 4, \"model\": 2}, \"Metrics\": {\"train_absolute_loss_objective\": {\"sum\": 0.7965139985084534, \"count\": 1, \"min\": 0.7965139985084534, \"max\": 0.7965139985084534}}}\u001b[0m\n",
      "\u001b[34m#metrics {\"StartTime\": 1752226610.4288383, \"EndTime\": 1752226610.4288456, \"Dimensions\": {\"Algorithm\": \"Linear Learner\", \"Host\": \"algo-1\", \"Operation\": \"training\", \"epoch\": 4, \"model\": 3}, \"Metrics\": {\"train_absolute_loss_objective\": {\"sum\": 0.8126043558120728, \"count\": 1, \"min\": 0.8126043558120728, \"max\": 0.8126043558120728}}}\u001b[0m\n",
      "\u001b[34m#metrics {\"StartTime\": 1752226610.4288766, \"EndTime\": 1752226610.428884, \"Dimensions\": {\"Algorithm\": \"Linear Learner\", \"Host\": \"algo-1\", \"Operation\": \"training\", \"epoch\": 4, \"model\": 4}, \"Metrics\": {\"train_absolute_loss_objective\": {\"sum\": 0.2905515551567078, \"count\": 1, \"min\": 0.2905515551567078, \"max\": 0.2905515551567078}}}\u001b[0m\n",
      "\u001b[34m#metrics {\"StartTime\": 1752226610.4289105, \"EndTime\": 1752226610.4289176, \"Dimensions\": {\"Algorithm\": \"Linear Learner\", \"Host\": \"algo-1\", \"Operation\": \"training\", \"epoch\": 4, \"model\": 5}, \"Metrics\": {\"train_absolute_loss_objective\": {\"sum\": 0.36962249875068665, \"count\": 1, \"min\": 0.36962249875068665, \"max\": 0.36962249875068665}}}\u001b[0m\n",
      "\u001b[34m#metrics {\"StartTime\": 1752226610.4289467, \"EndTime\": 1752226610.4289536, \"Dimensions\": {\"Algorithm\": \"Linear Learner\", \"Host\": \"algo-1\", \"Operation\": \"training\", \"epoch\": 4, \"model\": 6}, \"Metrics\": {\"train_absolute_loss_objective\": {\"sum\": 0.28269554376602174, \"count\": 1, \"min\": 0.28269554376602174, \"max\": 0.28269554376602174}}}\u001b[0m\n",
      "\u001b[34m#metrics {\"StartTime\": 1752226610.4289813, \"EndTime\": 1752226610.4289887, \"Dimensions\": {\"Algorithm\": \"Linear Learner\", \"Host\": \"algo-1\", \"Operation\": \"training\", \"epoch\": 4, \"model\": 7}, \"Metrics\": {\"train_absolute_loss_objective\": {\"sum\": 0.24870688319206238, \"count\": 1, \"min\": 0.24870688319206238, \"max\": 0.24870688319206238}}}\u001b[0m\n",
      "\u001b[34m#metrics {\"StartTime\": 1752226610.4290173, \"EndTime\": 1752226610.429026, \"Dimensions\": {\"Algorithm\": \"Linear Learner\", \"Host\": \"algo-1\", \"Operation\": \"training\", \"epoch\": 4, \"model\": 8}, \"Metrics\": {\"train_absolute_loss_objective\": {\"sum\": 0.852907919883728, \"count\": 1, \"min\": 0.852907919883728, \"max\": 0.852907919883728}}}\u001b[0m\n",
      "\u001b[34m#metrics {\"StartTime\": 1752226610.429054, \"EndTime\": 1752226610.4290612, \"Dimensions\": {\"Algorithm\": \"Linear Learner\", \"Host\": \"algo-1\", \"Operation\": \"training\", \"epoch\": 4, \"model\": 9}, \"Metrics\": {\"train_absolute_loss_objective\": {\"sum\": 0.7824291288852692, \"count\": 1, \"min\": 0.7824291288852692, \"max\": 0.7824291288852692}}}\u001b[0m\n",
      "\u001b[34m#metrics {\"StartTime\": 1752226610.4290872, \"EndTime\": 1752226610.429095, \"Dimensions\": {\"Algorithm\": \"Linear Learner\", \"Host\": \"algo-1\", \"Operation\": \"training\", \"epoch\": 4, \"model\": 10}, \"Metrics\": {\"train_absolute_loss_objective\": {\"sum\": 0.7891528487205506, \"count\": 1, \"min\": 0.7891528487205506, \"max\": 0.7891528487205506}}}\u001b[0m\n",
      "\u001b[34m#metrics {\"StartTime\": 1752226610.429122, \"EndTime\": 1752226610.42913, \"Dimensions\": {\"Algorithm\": \"Linear Learner\", \"Host\": \"algo-1\", \"Operation\": \"training\", \"epoch\": 4, \"model\": 11}, \"Metrics\": {\"train_absolute_loss_objective\": {\"sum\": 0.7748174548149109, \"count\": 1, \"min\": 0.7748174548149109, \"max\": 0.7748174548149109}}}\u001b[0m\n",
      "\u001b[34m#metrics {\"StartTime\": 1752226610.4291604, \"EndTime\": 1752226610.4291697, \"Dimensions\": {\"Algorithm\": \"Linear Learner\", \"Host\": \"algo-1\", \"Operation\": \"training\", \"epoch\": 4, \"model\": 12}, \"Metrics\": {\"train_absolute_loss_objective\": {\"sum\": 0.3627231389284134, \"count\": 1, \"min\": 0.3627231389284134, \"max\": 0.3627231389284134}}}\u001b[0m\n",
      "\u001b[34m#metrics {\"StartTime\": 1752226610.4291961, \"EndTime\": 1752226610.4292035, \"Dimensions\": {\"Algorithm\": \"Linear Learner\", \"Host\": \"algo-1\", \"Operation\": \"training\", \"epoch\": 4, \"model\": 13}, \"Metrics\": {\"train_absolute_loss_objective\": {\"sum\": 0.2768667221069336, \"count\": 1, \"min\": 0.2768667221069336, \"max\": 0.2768667221069336}}}\u001b[0m\n",
      "\u001b[34m#metrics {\"StartTime\": 1752226610.429231, \"EndTime\": 1752226610.4292383, \"Dimensions\": {\"Algorithm\": \"Linear Learner\", \"Host\": \"algo-1\", \"Operation\": \"training\", \"epoch\": 4, \"model\": 14}, \"Metrics\": {\"train_absolute_loss_objective\": {\"sum\": 0.363563135266304, \"count\": 1, \"min\": 0.363563135266304, \"max\": 0.363563135266304}}}\u001b[0m\n",
      "\u001b[34m#metrics {\"StartTime\": 1752226610.4292662, \"EndTime\": 1752226610.4292736, \"Dimensions\": {\"Algorithm\": \"Linear Learner\", \"Host\": \"algo-1\", \"Operation\": \"training\", \"epoch\": 4, \"model\": 15}, \"Metrics\": {\"train_absolute_loss_objective\": {\"sum\": 0.2743987560272217, \"count\": 1, \"min\": 0.2743987560272217, \"max\": 0.2743987560272217}}}\u001b[0m\n",
      "\u001b[34m#metrics {\"StartTime\": 1752226610.4293015, \"EndTime\": 1752226610.4293096, \"Dimensions\": {\"Algorithm\": \"Linear Learner\", \"Host\": \"algo-1\", \"Operation\": \"training\", \"epoch\": 4, \"model\": 16}, \"Metrics\": {\"train_absolute_loss_objective\": {\"sum\": 0.761681604385376, \"count\": 1, \"min\": 0.761681604385376, \"max\": 0.761681604385376}}}\u001b[0m\n",
      "\u001b[34m#metrics {\"StartTime\": 1752226610.4293368, \"EndTime\": 1752226610.4293442, \"Dimensions\": {\"Algorithm\": \"Linear Learner\", \"Host\": \"algo-1\", \"Operation\": \"training\", \"epoch\": 4, \"model\": 17}, \"Metrics\": {\"train_absolute_loss_objective\": {\"sum\": 0.8097715616226197, \"count\": 1, \"min\": 0.8097715616226197, \"max\": 0.8097715616226197}}}\u001b[0m\n",
      "\u001b[34m#metrics {\"StartTime\": 1752226610.4293723, \"EndTime\": 1752226610.4293802, \"Dimensions\": {\"Algorithm\": \"Linear Learner\", \"Host\": \"algo-1\", \"Operation\": \"training\", \"epoch\": 4, \"model\": 18}, \"Metrics\": {\"train_absolute_loss_objective\": {\"sum\": 0.7867721199989319, \"count\": 1, \"min\": 0.7867721199989319, \"max\": 0.7867721199989319}}}\u001b[0m\n",
      "\u001b[34m#metrics {\"StartTime\": 1752226610.4294097, \"EndTime\": 1752226610.429418, \"Dimensions\": {\"Algorithm\": \"Linear Learner\", \"Host\": \"algo-1\", \"Operation\": \"training\", \"epoch\": 4, \"model\": 19}, \"Metrics\": {\"train_absolute_loss_objective\": {\"sum\": 0.7838413953781128, \"count\": 1, \"min\": 0.7838413953781128, \"max\": 0.7838413953781128}}}\u001b[0m\n",
      "\u001b[34m#metrics {\"StartTime\": 1752226610.4294472, \"EndTime\": 1752226610.4294553, \"Dimensions\": {\"Algorithm\": \"Linear Learner\", \"Host\": \"algo-1\", \"Operation\": \"training\", \"epoch\": 4, \"model\": 20}, \"Metrics\": {\"train_absolute_loss_objective\": {\"sum\": 0.4112198293209076, \"count\": 1, \"min\": 0.4112198293209076, \"max\": 0.4112198293209076}}}\u001b[0m\n",
      "\u001b[34m#metrics {\"StartTime\": 1752226610.429485, \"EndTime\": 1752226610.429493, \"Dimensions\": {\"Algorithm\": \"Linear Learner\", \"Host\": \"algo-1\", \"Operation\": \"training\", \"epoch\": 4, \"model\": 21}, \"Metrics\": {\"train_absolute_loss_objective\": {\"sum\": 0.4567354381084442, \"count\": 1, \"min\": 0.4567354381084442, \"max\": 0.4567354381084442}}}\u001b[0m\n",
      "\u001b[34m#metrics {\"StartTime\": 1752226610.4295223, \"EndTime\": 1752226610.4295306, \"Dimensions\": {\"Algorithm\": \"Linear Learner\", \"Host\": \"algo-1\", \"Operation\": \"training\", \"epoch\": 4, \"model\": 22}, \"Metrics\": {\"train_absolute_loss_objective\": {\"sum\": 0.3774163484573364, \"count\": 1, \"min\": 0.3774163484573364, \"max\": 0.3774163484573364}}}\u001b[0m\n",
      "\u001b[34m#metrics {\"StartTime\": 1752226610.4295595, \"EndTime\": 1752226610.429568, \"Dimensions\": {\"Algorithm\": \"Linear Learner\", \"Host\": \"algo-1\", \"Operation\": \"training\", \"epoch\": 4, \"model\": 23}, \"Metrics\": {\"train_absolute_loss_objective\": {\"sum\": 0.4499714434146881, \"count\": 1, \"min\": 0.4499714434146881, \"max\": 0.4499714434146881}}}\u001b[0m\n",
      "\u001b[34m#metrics {\"StartTime\": 1752226610.4295998, \"EndTime\": 1752226610.429608, \"Dimensions\": {\"Algorithm\": \"Linear Learner\", \"Host\": \"algo-1\", \"Operation\": \"training\", \"epoch\": 4, \"model\": 24}, \"Metrics\": {\"train_absolute_loss_objective\": {\"sum\": 0.8953014850616455, \"count\": 1, \"min\": 0.8953014850616455, \"max\": 0.8953014850616455}}}\u001b[0m\n",
      "\u001b[34m#metrics {\"StartTime\": 1752226610.4296377, \"EndTime\": 1752226610.4296465, \"Dimensions\": {\"Algorithm\": \"Linear Learner\", \"Host\": \"algo-1\", \"Operation\": \"training\", \"epoch\": 4, \"model\": 25}, \"Metrics\": {\"train_absolute_loss_objective\": {\"sum\": 0.8776361644268036, \"count\": 1, \"min\": 0.8776361644268036, \"max\": 0.8776361644268036}}}\u001b[0m\n",
      "\u001b[34m#metrics {\"StartTime\": 1752226610.4296741, \"EndTime\": 1752226610.4296813, \"Dimensions\": {\"Algorithm\": \"Linear Learner\", \"Host\": \"algo-1\", \"Operation\": \"training\", \"epoch\": 4, \"model\": 26}, \"Metrics\": {\"train_absolute_loss_objective\": {\"sum\": 0.8867575585842132, \"count\": 1, \"min\": 0.8867575585842132, \"max\": 0.8867575585842132}}}\u001b[0m\n",
      "\u001b[34m#metrics {\"StartTime\": 1752226610.4297051, \"EndTime\": 1752226610.4297125, \"Dimensions\": {\"Algorithm\": \"Linear Learner\", \"Host\": \"algo-1\", \"Operation\": \"training\", \"epoch\": 4, \"model\": 27}, \"Metrics\": {\"train_absolute_loss_objective\": {\"sum\": 0.8827975869178772, \"count\": 1, \"min\": 0.8827975869178772, \"max\": 0.8827975869178772}}}\u001b[0m\n",
      "\u001b[34m#metrics {\"StartTime\": 1752226610.4297404, \"EndTime\": 1752226610.4297488, \"Dimensions\": {\"Algorithm\": \"Linear Learner\", \"Host\": \"algo-1\", \"Operation\": \"training\", \"epoch\": 4, \"model\": 28}, \"Metrics\": {\"train_absolute_loss_objective\": {\"sum\": 0.9133716583251953, \"count\": 1, \"min\": 0.9133716583251953, \"max\": 0.9133716583251953}}}\u001b[0m\n",
      "\u001b[34m#metrics {\"StartTime\": 1752226610.4297771, \"EndTime\": 1752226610.4297853, \"Dimensions\": {\"Algorithm\": \"Linear Learner\", \"Host\": \"algo-1\", \"Operation\": \"training\", \"epoch\": 4, \"model\": 29}, \"Metrics\": {\"train_absolute_loss_objective\": {\"sum\": 0.9134673833847046, \"count\": 1, \"min\": 0.9134673833847046, \"max\": 0.9134673833847046}}}\u001b[0m\n",
      "\u001b[34m#metrics {\"StartTime\": 1752226610.4298148, \"EndTime\": 1752226610.4298227, \"Dimensions\": {\"Algorithm\": \"Linear Learner\", \"Host\": \"algo-1\", \"Operation\": \"training\", \"epoch\": 4, \"model\": 30}, \"Metrics\": {\"train_absolute_loss_objective\": {\"sum\": 0.9101514935493469, \"count\": 1, \"min\": 0.9101514935493469, \"max\": 0.9101514935493469}}}\u001b[0m\n",
      "\u001b[34m#metrics {\"StartTime\": 1752226610.4298522, \"EndTime\": 1752226610.4298608, \"Dimensions\": {\"Algorithm\": \"Linear Learner\", \"Host\": \"algo-1\", \"Operation\": \"training\", \"epoch\": 4, \"model\": 31}, \"Metrics\": {\"train_absolute_loss_objective\": {\"sum\": 0.9375337600708008, \"count\": 1, \"min\": 0.9375337600708008, \"max\": 0.9375337600708008}}}\u001b[0m\n",
      "\u001b[34m[07/11/2025 09:36:50 INFO 139681705682752] #quality_metric: host=algo-1, epoch=4, train absolute_loss_objective <loss>=0.7941442787647247\u001b[0m\n",
      "\u001b[34m[07/11/2025 09:36:50 INFO 139681705682752] #early_stopping_criteria_metric: host=algo-1, epoch=4, criteria=absolute_loss_objective, value=0.24870688319206238\u001b[0m\n",
      "\u001b[34m[07/11/2025 09:36:50 INFO 139681705682752] Saving model for epoch: 4\u001b[0m\n",
      "\u001b[34m[07/11/2025 09:36:50 INFO 139681705682752] Saved checkpoint to \"/tmp/tmp4lw1rlik/mx-mod-0000.params\"\u001b[0m\n",
      "\u001b[34m[07/11/2025 09:36:50 INFO 139681705682752] #progress_metric: host=algo-1, completed 83.33333333333333 % of epochs\u001b[0m\n",
      "\u001b[34m#metrics {\"StartTime\": 1752226610.358432, \"EndTime\": 1752226610.436759, \"Dimensions\": {\"Algorithm\": \"Linear Learner\", \"Host\": \"algo-1\", \"Operation\": \"training\", \"epoch\": 4, \"Meta\": \"training_data_iter\"}, \"Metrics\": {\"Total Records Seen\": {\"sum\": 124.0, \"count\": 1, \"min\": 124, \"max\": 124}, \"Total Batches Seen\": {\"sum\": 31.0, \"count\": 1, \"min\": 31, \"max\": 31}, \"Max Records Seen Between Resets\": {\"sum\": 20.0, \"count\": 1, \"min\": 20, \"max\": 20}, \"Max Batches Seen Between Resets\": {\"sum\": 5.0, \"count\": 1, \"min\": 5, \"max\": 5}, \"Reset Count\": {\"sum\": 7.0, \"count\": 1, \"min\": 7, \"max\": 7}, \"Number of Records Since Last Reset\": {\"sum\": 20.0, \"count\": 1, \"min\": 20, \"max\": 20}, \"Number of Batches Since Last Reset\": {\"sum\": 5.0, \"count\": 1, \"min\": 5, \"max\": 5}}}\u001b[0m\n",
      "\u001b[34m[07/11/2025 09:36:50 INFO 139681705682752] #throughput_metric: host=algo-1, train throughput=254.9542890488232 records/second\u001b[0m\n",
      "\u001b[34m[2025-07-11 09:36:50.506] [tensorio] [info] epoch_stats={\"data_pipeline\": \"/opt/ml/input/data/train\", \"epoch\": 14, \"duration\": 68, \"num_examples\": 5, \"num_bytes\": 960}\u001b[0m\n",
      "\u001b[34m#metrics {\"StartTime\": 1752226610.5061874, \"EndTime\": 1752226610.5062947, \"Dimensions\": {\"Algorithm\": \"Linear Learner\", \"Host\": \"algo-1\", \"Operation\": \"training\", \"epoch\": 5, \"model\": 0}, \"Metrics\": {\"train_absolute_loss_objective\": {\"sum\": 0.7742367327213288, \"count\": 1, \"min\": 0.7742367327213288, \"max\": 0.7742367327213288}}}\u001b[0m\n",
      "\u001b[34m#metrics {\"StartTime\": 1752226610.5063896, \"EndTime\": 1752226610.506423, \"Dimensions\": {\"Algorithm\": \"Linear Learner\", \"Host\": \"algo-1\", \"Operation\": \"training\", \"epoch\": 5, \"model\": 1}, \"Metrics\": {\"train_absolute_loss_objective\": {\"sum\": 0.7953704118728637, \"count\": 1, \"min\": 0.7953704118728637, \"max\": 0.7953704118728637}}}\u001b[0m\n",
      "\u001b[34m#metrics {\"StartTime\": 1752226610.5064726, \"EndTime\": 1752226610.5065007, \"Dimensions\": {\"Algorithm\": \"Linear Learner\", \"Host\": \"algo-1\", \"Operation\": \"training\", \"epoch\": 5, \"model\": 2}, \"Metrics\": {\"train_absolute_loss_objective\": {\"sum\": 0.7762271881103515, \"count\": 1, \"min\": 0.7762271881103515, \"max\": 0.7762271881103515}}}\u001b[0m\n",
      "\u001b[34m#metrics {\"StartTime\": 1752226610.5065625, \"EndTime\": 1752226610.5065744, \"Dimensions\": {\"Algorithm\": \"Linear Learner\", \"Host\": \"algo-1\", \"Operation\": \"training\", \"epoch\": 5, \"model\": 3}, \"Metrics\": {\"train_absolute_loss_objective\": {\"sum\": 0.7919056594371796, \"count\": 1, \"min\": 0.7919056594371796, \"max\": 0.7919056594371796}}}\u001b[0m\n",
      "\u001b[34m#metrics {\"StartTime\": 1752226610.5066075, \"EndTime\": 1752226610.5066168, \"Dimensions\": {\"Algorithm\": \"Linear Learner\", \"Host\": \"algo-1\", \"Operation\": \"training\", \"epoch\": 5, \"model\": 4}, \"Metrics\": {\"train_absolute_loss_objective\": {\"sum\": 0.29870389997959135, \"count\": 1, \"min\": 0.29870389997959135, \"max\": 0.29870389997959135}}}\u001b[0m\n",
      "\u001b[34m#metrics {\"StartTime\": 1752226610.5066855, \"EndTime\": 1752226610.506697, \"Dimensions\": {\"Algorithm\": \"Linear Learner\", \"Host\": \"algo-1\", \"Operation\": \"training\", \"epoch\": 5, \"model\": 5}, \"Metrics\": {\"train_absolute_loss_objective\": {\"sum\": 0.3549913942813873, \"count\": 1, \"min\": 0.3549913942813873, \"max\": 0.3549913942813873}}}\u001b[0m\n",
      "\u001b[34m#metrics {\"StartTime\": 1752226610.506759, \"EndTime\": 1752226610.5067694, \"Dimensions\": {\"Algorithm\": \"Linear Learner\", \"Host\": \"algo-1\", \"Operation\": \"training\", \"epoch\": 5, \"model\": 6}, \"Metrics\": {\"train_absolute_loss_objective\": {\"sum\": 0.20857020616531372, \"count\": 1, \"min\": 0.20857020616531372, \"max\": 0.20857020616531372}}}\u001b[0m\n",
      "\u001b[34m#metrics {\"StartTime\": 1752226610.5068226, \"EndTime\": 1752226610.5068333, \"Dimensions\": {\"Algorithm\": \"Linear Learner\", \"Host\": \"algo-1\", \"Operation\": \"training\", \"epoch\": 5, \"model\": 7}, \"Metrics\": {\"train_absolute_loss_objective\": {\"sum\": 0.21769482791423797, \"count\": 1, \"min\": 0.21769482791423797, \"max\": 0.21769482791423797}}}\u001b[0m\n",
      "\u001b[34m#metrics {\"StartTime\": 1752226610.5068862, \"EndTime\": 1752226610.5068982, \"Dimensions\": {\"Algorithm\": \"Linear Learner\", \"Host\": \"algo-1\", \"Operation\": \"training\", \"epoch\": 5, \"model\": 8}, \"Metrics\": {\"train_absolute_loss_objective\": {\"sum\": 0.8299820005893708, \"count\": 1, \"min\": 0.8299820005893708, \"max\": 0.8299820005893708}}}\u001b[0m\n",
      "\u001b[34m#metrics {\"StartTime\": 1752226610.5069566, \"EndTime\": 1752226610.506969, \"Dimensions\": {\"Algorithm\": \"Linear Learner\", \"Host\": \"algo-1\", \"Operation\": \"training\", \"epoch\": 5, \"model\": 9}, \"Metrics\": {\"train_absolute_loss_objective\": {\"sum\": 0.7611159324645996, \"count\": 1, \"min\": 0.7611159324645996, \"max\": 0.7611159324645996}}}\u001b[0m\n",
      "\u001b[34m#metrics {\"StartTime\": 1752226610.5070302, \"EndTime\": 1752226610.5070417, \"Dimensions\": {\"Algorithm\": \"Linear Learner\", \"Host\": \"algo-1\", \"Operation\": \"training\", \"epoch\": 5, \"model\": 10}, \"Metrics\": {\"train_absolute_loss_objective\": {\"sum\": 0.7688645243644714, \"count\": 1, \"min\": 0.7688645243644714, \"max\": 0.7688645243644714}}}\u001b[0m\n",
      "\u001b[34m#metrics {\"StartTime\": 1752226610.507076, \"EndTime\": 1752226610.5070848, \"Dimensions\": {\"Algorithm\": \"Linear Learner\", \"Host\": \"algo-1\", \"Operation\": \"training\", \"epoch\": 5, \"model\": 11}, \"Metrics\": {\"train_absolute_loss_objective\": {\"sum\": 0.7529121935367584, \"count\": 1, \"min\": 0.7529121935367584, \"max\": 0.7529121935367584}}}\u001b[0m\n",
      "\u001b[34m#metrics {\"StartTime\": 1752226610.5071397, \"EndTime\": 1752226610.5071495, \"Dimensions\": {\"Algorithm\": \"Linear Learner\", \"Host\": \"algo-1\", \"Operation\": \"training\", \"epoch\": 5, \"model\": 12}, \"Metrics\": {\"train_absolute_loss_objective\": {\"sum\": 0.34855562150478364, \"count\": 1, \"min\": 0.34855562150478364, \"max\": 0.34855562150478364}}}\u001b[0m\n",
      "\u001b[34m#metrics {\"StartTime\": 1752226610.5072055, \"EndTime\": 1752226610.507216, \"Dimensions\": {\"Algorithm\": \"Linear Learner\", \"Host\": \"algo-1\", \"Operation\": \"training\", \"epoch\": 5, \"model\": 13}, \"Metrics\": {\"train_absolute_loss_objective\": {\"sum\": 0.22867609858512877, \"count\": 1, \"min\": 0.22867609858512877, \"max\": 0.22867609858512877}}}\u001b[0m\n",
      "\u001b[34m#metrics {\"StartTime\": 1752226610.5073, \"EndTime\": 1752226610.5073113, \"Dimensions\": {\"Algorithm\": \"Linear Learner\", \"Host\": \"algo-1\", \"Operation\": \"training\", \"epoch\": 5, \"model\": 14}, \"Metrics\": {\"train_absolute_loss_objective\": {\"sum\": 0.3484003633260727, \"count\": 1, \"min\": 0.3484003633260727, \"max\": 0.3484003633260727}}}\u001b[0m\n",
      "\u001b[34m#metrics {\"StartTime\": 1752226610.5073652, \"EndTime\": 1752226610.5073764, \"Dimensions\": {\"Algorithm\": \"Linear Learner\", \"Host\": \"algo-1\", \"Operation\": \"training\", \"epoch\": 5, \"model\": 15}, \"Metrics\": {\"train_absolute_loss_objective\": {\"sum\": 0.2371730774641037, \"count\": 1, \"min\": 0.2371730774641037, \"max\": 0.2371730774641037}}}\u001b[0m\n",
      "\u001b[34m#metrics {\"StartTime\": 1752226610.507428, \"EndTime\": 1752226610.507439, \"Dimensions\": {\"Algorithm\": \"Linear Learner\", \"Host\": \"algo-1\", \"Operation\": \"training\", \"epoch\": 5, \"model\": 16}, \"Metrics\": {\"train_absolute_loss_objective\": {\"sum\": 0.7402670025825501, \"count\": 1, \"min\": 0.7402670025825501, \"max\": 0.7402670025825501}}}\u001b[0m\n",
      "\u001b[34m#metrics {\"StartTime\": 1752226610.5074732, \"EndTime\": 1752226610.507501, \"Dimensions\": {\"Algorithm\": \"Linear Learner\", \"Host\": \"algo-1\", \"Operation\": \"training\", \"epoch\": 5, \"model\": 17}, \"Metrics\": {\"train_absolute_loss_objective\": {\"sum\": 0.7898025572299957, \"count\": 1, \"min\": 0.7898025572299957, \"max\": 0.7898025572299957}}}\u001b[0m\n",
      "\u001b[34m#metrics {\"StartTime\": 1752226610.507548, \"EndTime\": 1752226610.5075583, \"Dimensions\": {\"Algorithm\": \"Linear Learner\", \"Host\": \"algo-1\", \"Operation\": \"training\", \"epoch\": 5, \"model\": 18}, \"Metrics\": {\"train_absolute_loss_objective\": {\"sum\": 0.7671684980392456, \"count\": 1, \"min\": 0.7671684980392456, \"max\": 0.7671684980392456}}}\u001b[0m\n",
      "\u001b[34m#metrics {\"StartTime\": 1752226610.507616, \"EndTime\": 1752226610.507626, \"Dimensions\": {\"Algorithm\": \"Linear Learner\", \"Host\": \"algo-1\", \"Operation\": \"training\", \"epoch\": 5, \"model\": 19}, \"Metrics\": {\"train_absolute_loss_objective\": {\"sum\": 0.7635455846786499, \"count\": 1, \"min\": 0.7635455846786499, \"max\": 0.7635455846786499}}}\u001b[0m\n",
      "\u001b[34m#metrics {\"StartTime\": 1752226610.5076783, \"EndTime\": 1752226610.5076892, \"Dimensions\": {\"Algorithm\": \"Linear Learner\", \"Host\": \"algo-1\", \"Operation\": \"training\", \"epoch\": 5, \"model\": 20}, \"Metrics\": {\"train_absolute_loss_objective\": {\"sum\": 0.4438899517059326, \"count\": 1, \"min\": 0.4438899517059326, \"max\": 0.4438899517059326}}}\u001b[0m\n",
      "\u001b[34m#metrics {\"StartTime\": 1752226610.507721, \"EndTime\": 1752226610.507751, \"Dimensions\": {\"Algorithm\": \"Linear Learner\", \"Host\": \"algo-1\", \"Operation\": \"training\", \"epoch\": 5, \"model\": 21}, \"Metrics\": {\"train_absolute_loss_objective\": {\"sum\": 0.6015096664428711, \"count\": 1, \"min\": 0.6015096664428711, \"max\": 0.6015096664428711}}}\u001b[0m\n",
      "\u001b[34m#metrics {\"StartTime\": 1752226610.5077858, \"EndTime\": 1752226610.5077949, \"Dimensions\": {\"Algorithm\": \"Linear Learner\", \"Host\": \"algo-1\", \"Operation\": \"training\", \"epoch\": 5, \"model\": 22}, \"Metrics\": {\"train_absolute_loss_objective\": {\"sum\": 0.42704973220825193, \"count\": 1, \"min\": 0.42704973220825193, \"max\": 0.42704973220825193}}}\u001b[0m\n",
      "\u001b[34m#metrics {\"StartTime\": 1752226610.5078592, \"EndTime\": 1752226610.50787, \"Dimensions\": {\"Algorithm\": \"Linear Learner\", \"Host\": \"algo-1\", \"Operation\": \"training\", \"epoch\": 5, \"model\": 23}, \"Metrics\": {\"train_absolute_loss_objective\": {\"sum\": 0.5905784726142883, \"count\": 1, \"min\": 0.5905784726142883, \"max\": 0.5905784726142883}}}\u001b[0m\n",
      "\u001b[34m#metrics {\"StartTime\": 1752226610.507931, \"EndTime\": 1752226610.5079422, \"Dimensions\": {\"Algorithm\": \"Linear Learner\", \"Host\": \"algo-1\", \"Operation\": \"training\", \"epoch\": 5, \"model\": 24}, \"Metrics\": {\"train_absolute_loss_objective\": {\"sum\": 0.8941336870193481, \"count\": 1, \"min\": 0.8941336870193481, \"max\": 0.8941336870193481}}}\u001b[0m\n",
      "\u001b[34m#metrics {\"StartTime\": 1752226610.5079942, \"EndTime\": 1752226610.5080051, \"Dimensions\": {\"Algorithm\": \"Linear Learner\", \"Host\": \"algo-1\", \"Operation\": \"training\", \"epoch\": 5, \"model\": 25}, \"Metrics\": {\"train_absolute_loss_objective\": {\"sum\": 0.8838393926620484, \"count\": 1, \"min\": 0.8838393926620484, \"max\": 0.8838393926620484}}}\u001b[0m\n",
      "\u001b[34m#metrics {\"StartTime\": 1752226610.5080395, \"EndTime\": 1752226610.5080485, \"Dimensions\": {\"Algorithm\": \"Linear Learner\", \"Host\": \"algo-1\", \"Operation\": \"training\", \"epoch\": 5, \"model\": 26}, \"Metrics\": {\"train_absolute_loss_objective\": {\"sum\": 0.889295244216919, \"count\": 1, \"min\": 0.889295244216919, \"max\": 0.889295244216919}}}\u001b[0m\n",
      "\u001b[34m#metrics {\"StartTime\": 1752226610.5081027, \"EndTime\": 1752226610.508113, \"Dimensions\": {\"Algorithm\": \"Linear Learner\", \"Host\": \"algo-1\", \"Operation\": \"training\", \"epoch\": 5, \"model\": 27}, \"Metrics\": {\"train_absolute_loss_objective\": {\"sum\": 0.8830288231372834, \"count\": 1, \"min\": 0.8830288231372834, \"max\": 0.8830288231372834}}}\u001b[0m\n",
      "\u001b[34m#metrics {\"StartTime\": 1752226610.508166, \"EndTime\": 1752226610.5081766, \"Dimensions\": {\"Algorithm\": \"Linear Learner\", \"Host\": \"algo-1\", \"Operation\": \"training\", \"epoch\": 5, \"model\": 28}, \"Metrics\": {\"train_absolute_loss_objective\": {\"sum\": 0.9086798310279847, \"count\": 1, \"min\": 0.9086798310279847, \"max\": 0.9086798310279847}}}\u001b[0m\n",
      "\u001b[34m#metrics {\"StartTime\": 1752226610.5082355, \"EndTime\": 1752226610.5082533, \"Dimensions\": {\"Algorithm\": \"Linear Learner\", \"Host\": \"algo-1\", \"Operation\": \"training\", \"epoch\": 5, \"model\": 29}, \"Metrics\": {\"train_absolute_loss_objective\": {\"sum\": 0.9095387816429138, \"count\": 1, \"min\": 0.9095387816429138, \"max\": 0.9095387816429138}}}\u001b[0m\n",
      "\u001b[34m#metrics {\"StartTime\": 1752226610.5083423, \"EndTime\": 1752226610.5083559, \"Dimensions\": {\"Algorithm\": \"Linear Learner\", \"Host\": \"algo-1\", \"Operation\": \"training\", \"epoch\": 5, \"model\": 30}, \"Metrics\": {\"train_absolute_loss_objective\": {\"sum\": 0.9124507784843445, \"count\": 1, \"min\": 0.9124507784843445, \"max\": 0.9124507784843445}}}\u001b[0m\n",
      "\u001b[34m#metrics {\"StartTime\": 1752226610.5085006, \"EndTime\": 1752226610.5085156, \"Dimensions\": {\"Algorithm\": \"Linear Learner\", \"Host\": \"algo-1\", \"Operation\": \"training\", \"epoch\": 5, \"model\": 31}, \"Metrics\": {\"train_absolute_loss_objective\": {\"sum\": 0.8903761029243469, \"count\": 1, \"min\": 0.8903761029243469, \"max\": 0.8903761029243469}}}\u001b[0m\n",
      "\u001b[34m[07/11/2025 09:36:50 INFO 139681705682752] #quality_metric: host=algo-1, epoch=5, train absolute_loss_objective <loss>=0.7742367327213288\u001b[0m\n",
      "\u001b[34m[07/11/2025 09:36:50 INFO 139681705682752] #early_stopping_criteria_metric: host=algo-1, epoch=5, criteria=absolute_loss_objective, value=0.20857020616531372\u001b[0m\n",
      "\u001b[34m[07/11/2025 09:36:50 INFO 139681705682752] Epoch 5: Loss improved. Updating best model\u001b[0m\n",
      "\u001b[34m[07/11/2025 09:36:50 INFO 139681705682752] Saving model for epoch: 5\u001b[0m\n",
      "\u001b[34m[07/11/2025 09:36:50 INFO 139681705682752] Saved checkpoint to \"/tmp/tmp6siakp9z/mx-mod-0000.params\"\u001b[0m\n",
      "\u001b[34m[07/11/2025 09:36:50 INFO 139681705682752] #progress_metric: host=algo-1, completed 100.0 % of epochs\u001b[0m\n",
      "\u001b[34m#metrics {\"StartTime\": 1752226610.437009, \"EndTime\": 1752226610.518673, \"Dimensions\": {\"Algorithm\": \"Linear Learner\", \"Host\": \"algo-1\", \"Operation\": \"training\", \"epoch\": 5, \"Meta\": \"training_data_iter\"}, \"Metrics\": {\"Total Records Seen\": {\"sum\": 144.0, \"count\": 1, \"min\": 144, \"max\": 144}, \"Total Batches Seen\": {\"sum\": 36.0, \"count\": 1, \"min\": 36, \"max\": 36}, \"Max Records Seen Between Resets\": {\"sum\": 20.0, \"count\": 1, \"min\": 20, \"max\": 20}, \"Max Batches Seen Between Resets\": {\"sum\": 5.0, \"count\": 1, \"min\": 5, \"max\": 5}, \"Reset Count\": {\"sum\": 8.0, \"count\": 1, \"min\": 8, \"max\": 8}, \"Number of Records Since Last Reset\": {\"sum\": 20.0, \"count\": 1, \"min\": 20, \"max\": 20}, \"Number of Batches Since Last Reset\": {\"sum\": 5.0, \"count\": 1, \"min\": 5, \"max\": 5}}}\u001b[0m\n",
      "\u001b[34m[07/11/2025 09:36:50 INFO 139681705682752] #throughput_metric: host=algo-1, train throughput=244.28380062668174 records/second\u001b[0m\n",
      "\u001b[34m[07/11/2025 09:36:50 WARNING 139681705682752] wait_for_all_workers will not sync workers since the kv store is not running distributed\u001b[0m\n",
      "\u001b[34m[07/11/2025 09:36:50 WARNING 139681705682752] wait_for_all_workers will not sync workers since the kv store is not running distributed\u001b[0m\n",
      "\u001b[34m[2025-07-11 09:36:50.519] [tensorio] [info] epoch_stats={\"data_pipeline\": \"/opt/ml/input/data/train\", \"epoch\": 16, \"duration\": 0, \"num_examples\": 1, \"num_bytes\": 192}\u001b[0m\n",
      "\u001b[34m[2025-07-11 09:36:50.530] [tensorio] [info] epoch_stats={\"data_pipeline\": \"/opt/ml/input/data/train\", \"epoch\": 18, \"duration\": 7, \"num_examples\": 5, \"num_bytes\": 960}\u001b[0m\n",
      "\u001b[34m[07/11/2025 09:36:50 INFO 139681705682752] #train_score (algo-1) : ('absolute_loss_objective', 5.020503902435303)\u001b[0m\n",
      "\u001b[34m[07/11/2025 09:36:50 INFO 139681705682752] #train_score (algo-1) : ('mse', 35.847019577026366)\u001b[0m\n",
      "\u001b[34m[07/11/2025 09:36:50 INFO 139681705682752] #train_score (algo-1) : ('absolute_loss', 5.020503902435303)\u001b[0m\n",
      "\u001b[34m[07/11/2025 09:36:50 INFO 139681705682752] #train_score (algo-1) : ('rmse', 5.987238059157692)\u001b[0m\n",
      "\u001b[34m[07/11/2025 09:36:50 INFO 139681705682752] #train_score (algo-1) : ('r2', 0.9378411306240997)\u001b[0m\n",
      "\u001b[34m[07/11/2025 09:36:50 INFO 139681705682752] #train_score (algo-1) : ('mae', 5.020503902435303)\u001b[0m\n",
      "\u001b[34m[07/11/2025 09:36:50 INFO 139681705682752] #quality_metric: host=algo-1, train absolute_loss_objective <loss>=5.020503902435303\u001b[0m\n",
      "\u001b[34m[07/11/2025 09:36:50 INFO 139681705682752] #quality_metric: host=algo-1, train mse <loss>=35.847019577026366\u001b[0m\n",
      "\u001b[34m[07/11/2025 09:36:50 INFO 139681705682752] #quality_metric: host=algo-1, train absolute_loss <loss>=5.020503902435303\u001b[0m\n",
      "\u001b[34m[07/11/2025 09:36:50 INFO 139681705682752] #quality_metric: host=algo-1, train rmse <loss>=5.987238059157692\u001b[0m\n",
      "\u001b[34m[07/11/2025 09:36:50 INFO 139681705682752] #quality_metric: host=algo-1, train r2 <loss>=0.9378411306240997\u001b[0m\n",
      "\u001b[34m[07/11/2025 09:36:50 INFO 139681705682752] #quality_metric: host=algo-1, train mae <loss>=5.020503902435303\u001b[0m\n",
      "\u001b[34m[07/11/2025 09:36:50 INFO 139681705682752] Best model found for hyperparameters: {\"optimizer\": \"adam\", \"learning_rate\": 0.1, \"wd\": 0.0001, \"l1\": 0.0, \"lr_scheduler_step\": 10, \"lr_scheduler_factor\": 0.99, \"lr_scheduler_minimum_lr\": 0.0001}\u001b[0m\n",
      "\u001b[34m[07/11/2025 09:36:50 INFO 139681705682752] Saved checkpoint to \"/tmp/tmpot2g9c_z/mx-mod-0000.params\"\u001b[0m\n",
      "\u001b[34m[07/11/2025 09:36:50 INFO 139681705682752] Test data is not provided.\u001b[0m\n",
      "\u001b[34m#metrics {\"StartTime\": 1752226609.898555, \"EndTime\": 1752226610.536725, \"Dimensions\": {\"Algorithm\": \"Linear Learner\", \"Host\": \"algo-1\", \"Operation\": \"training\"}, \"Metrics\": {\"initialize.time\": {\"sum\": 132.31563568115234, \"count\": 1, \"min\": 132.31563568115234, \"max\": 132.31563568115234}, \"epochs\": {\"sum\": 6.0, \"count\": 1, \"min\": 6, \"max\": 6}, \"check_early_stopping.time\": {\"sum\": 4.867076873779297, \"count\": 6, \"min\": 0.2033710479736328, \"max\": 1.3587474822998047}, \"update.time\": {\"sum\": 470.1576232910156, \"count\": 6, \"min\": 74.37443733215332, \"max\": 85.0226879119873}, \"finalize.time\": {\"sum\": 13.10586929321289, \"count\": 1, \"min\": 13.10586929321289, \"max\": 13.10586929321289}, \"setuptime\": {\"sum\": 2.0983219146728516, \"count\": 1, \"min\": 2.0983219146728516, \"max\": 2.0983219146728516}, \"totaltime\": {\"sum\": 744.1067695617676, \"count\": 1, \"min\": 744.1067695617676, \"max\": 744.1067695617676}}}\u001b[0m\n",
      "\n",
      "2025-07-11 09:36:52 Training - Training image download completed. Training in progress.\n",
      "2025-07-11 09:36:52 Uploading - Uploading generated training model\n",
      "2025-07-11 09:37:11 Completed - Training job completed\n",
      "Training seconds: 150\n",
      "Billable seconds: 150\n"
     ]
    }
   ],
   "source": [
    "#fit the model\n",
    "linear.fit({\"train\":s3_train_data})"
   ]
  },
  {
   "cell_type": "code",
   "execution_count": 107,
   "id": "ec9487c8-9a24-425e-8b1e-17b44309e3ee",
   "metadata": {
    "execution": {
     "iopub.execute_input": "2025-07-11T09:43:06.859351Z",
     "iopub.status.busy": "2025-07-11T09:43:06.859060Z",
     "iopub.status.idle": "2025-07-11T09:46:39.241905Z",
     "shell.execute_reply": "2025-07-11T09:46:39.241205Z",
     "shell.execute_reply.started": "2025-07-11T09:43:06.859329Z"
    }
   },
   "outputs": [
    {
     "name": "stderr",
     "output_type": "stream",
     "text": [
      "INFO:sagemaker:Creating model with name: linear-learner-2025-07-11-09-43-06-860\n",
      "INFO:sagemaker:Creating endpoint-config with name linear-learner-2025-07-11-09-43-06-860\n",
      "INFO:sagemaker:Creating endpoint with name linear-learner-2025-07-11-09-43-06-860\n"
     ]
    },
    {
     "name": "stdout",
     "output_type": "stream",
     "text": [
      "------!"
     ]
    }
   ],
   "source": [
    "#deploy the model\n",
    "linear_regression=linear.deploy(initial_instance_count=1,instance_type=\"ml.m5.xlarge\") "
   ]
  },
  {
   "cell_type": "code",
   "execution_count": 108,
   "id": "e4011479-502a-4f05-b224-0a8b124e6ddd",
   "metadata": {
    "execution": {
     "iopub.execute_input": "2025-07-11T09:50:31.144889Z",
     "iopub.status.busy": "2025-07-11T09:50:31.144597Z",
     "iopub.status.idle": "2025-07-11T09:50:31.148374Z",
     "shell.execute_reply": "2025-07-11T09:50:31.147576Z",
     "shell.execute_reply.started": "2025-07-11T09:50:31.144867Z"
    }
   },
   "outputs": [],
   "source": [
    "linear_regression.serializer=sagemaker.serializers.CSVSerializer() \n",
    "linear_regression.deserializer=sagemaker.deserializers.JSONDeserializer() "
   ]
  },
  {
   "cell_type": "code",
   "execution_count": 109,
   "id": "3ee18ae5-f6ae-44b6-810e-7b7003f82706",
   "metadata": {
    "execution": {
     "iopub.execute_input": "2025-07-11T09:51:51.970957Z",
     "iopub.status.busy": "2025-07-11T09:51:51.970543Z",
     "iopub.status.idle": "2025-07-11T09:51:52.121560Z",
     "shell.execute_reply": "2025-07-11T09:51:52.120690Z",
     "shell.execute_reply.started": "2025-07-11T09:51:51.970929Z"
    }
   },
   "outputs": [],
   "source": [
    "#prediction\n",
    "result=linear_regression.predict(X_test)"
   ]
  },
  {
   "cell_type": "code",
   "execution_count": 110,
   "id": "74b26014-6289-4ddd-8643-28cfc52e4186",
   "metadata": {
    "execution": {
     "iopub.execute_input": "2025-07-11T09:51:56.560333Z",
     "iopub.status.busy": "2025-07-11T09:51:56.559805Z",
     "iopub.status.idle": "2025-07-11T09:51:56.565627Z",
     "shell.execute_reply": "2025-07-11T09:51:56.564733Z",
     "shell.execute_reply.started": "2025-07-11T09:51:56.560298Z"
    }
   },
   "outputs": [
    {
     "data": {
      "text/plain": [
       "{'predictions': [{'score': 58.193397521972656},\n",
       "  {'score': 70.76435852050781},\n",
       "  {'score': 31.2556095123291},\n",
       "  {'score': 42.92864990234375},\n",
       "  {'score': 88.72288513183594}]}"
      ]
     },
     "execution_count": 110,
     "metadata": {},
     "output_type": "execute_result"
    }
   ],
   "source": [
    "result"
   ]
  },
  {
   "cell_type": "code",
   "execution_count": 112,
   "id": "9de7a849-5e0a-4d85-96ce-53caf5a1141b",
   "metadata": {
    "execution": {
     "iopub.execute_input": "2025-07-11T09:54:17.142948Z",
     "iopub.status.busy": "2025-07-11T09:54:17.142524Z",
     "iopub.status.idle": "2025-07-11T09:54:17.146948Z",
     "shell.execute_reply": "2025-07-11T09:54:17.145911Z",
     "shell.execute_reply.started": "2025-07-11T09:54:17.142919Z"
    }
   },
   "outputs": [],
   "source": [
    "predictions=np.array([i[\"score\"] for i in result[\"predictions\"]]) "
   ]
  },
  {
   "cell_type": "code",
   "execution_count": 113,
   "id": "393261bb-c302-4cff-ae03-a7f76f0bdbbc",
   "metadata": {
    "execution": {
     "iopub.execute_input": "2025-07-11T09:54:26.273580Z",
     "iopub.status.busy": "2025-07-11T09:54:26.272778Z",
     "iopub.status.idle": "2025-07-11T09:54:26.278172Z",
     "shell.execute_reply": "2025-07-11T09:54:26.277396Z",
     "shell.execute_reply.started": "2025-07-11T09:54:26.273548Z"
    }
   },
   "outputs": [
    {
     "data": {
      "text/plain": [
       "array([58.19339752, 70.76435852, 31.25560951, 42.9286499 , 88.72288513])"
      ]
     },
     "execution_count": 113,
     "metadata": {},
     "output_type": "execute_result"
    }
   ],
   "source": [
    "predictions"
   ]
  },
  {
   "cell_type": "code",
   "execution_count": null,
   "id": "942f70c9-fe20-4e40-9957-db76c8a8e4f1",
   "metadata": {},
   "outputs": [],
   "source": []
  }
 ],
 "metadata": {
  "kernelspec": {
   "display_name": "Python 3 (ipykernel)",
   "language": "python",
   "name": "python3"
  },
  "language_info": {
   "codemirror_mode": {
    "name": "ipython",
    "version": 3
   },
   "file_extension": ".py",
   "mimetype": "text/x-python",
   "name": "python",
   "nbconvert_exporter": "python",
   "pygments_lexer": "ipython3",
   "version": "3.12.9"
  }
 },
 "nbformat": 4,
 "nbformat_minor": 5
}
